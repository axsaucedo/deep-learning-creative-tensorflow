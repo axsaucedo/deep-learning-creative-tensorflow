{
 "cells": [
  {
   "cell_type": "markdown",
   "metadata": {},
   "source": [
    "# Session 3: Unsupervised and Supervised Learning\n",
    "\n",
    "<p class=\"lead\">\n",
    "Parag K. Mital<br />\n",
    "<a href=\"https://www.kadenze.com/courses/creative-applications-of-deep-learning-with-tensorflow/info\">Creative Applications of Deep Learning w/ Tensorflow</a><br />\n",
    "<a href=\"https://www.kadenze.com/partners/kadenze-academy\">Kadenze Academy</a><br />\n",
    "<a href=\"https://twitter.com/hashtag/CADL\">#CADL</a>\n",
    "</p>\n",
    "\n",
    "\n",
    "<a name=\"learning-goals\"></a>\n",
    "# Learning Goals\n",
    "\n",
    "* Build an autoencoder w/ linear and convolutional layers\n",
    "* Understand how one hot encodings work\n",
    "* Build a classification network w/ linear and convolutional layers\n",
    "\n",
    "<!-- MarkdownTOC autolink=true autoanchor=true bracket=round -->\n",
    "\n",
    "- [Introduction](#introduction)\n",
    "- [Unsupervised vs. Supervised Learning](#unsupervised-vs-supervised-learning)\n",
    "- [Autoencoders](#autoencoders)\n",
    "    - [MNIST](#mnist)\n",
    "    - [Fully Connected Model](#fully-connected-model)\n",
    "    - [Convolutional Autoencoder](#convolutional-autoencoder)\n",
    "    - [Denoising Autoencoder](#denoising-autoencoder)\n",
    "    - [Variational Autoencoders](#variational-autoencoders)\n",
    "- [Predicting Image Labels](#predicting-image-labels)\n",
    "    - [One-Hot Encoding](#one-hot-encoding)\n",
    "    - [Using Regression for Classification](#using-regression-for-classification)\n",
    "    - [Fully Connected Network](#fully-connected-network)\n",
    "    - [Convolutional Networks](#convolutional-networks)\n",
    "- [Saving/Loading Models](#savingloading-models)\n",
    "    - [Checkpoint](#checkpoint)\n",
    "    - [Protobuf](#protobuf)\n",
    "- [Wrap Up](#wrap-up)\n",
    "- [Reading](#reading)\n",
    "\n",
    "<!-- /MarkdownTOC -->\n",
    "\n",
    "<a name=\"introduction\"></a>\n",
    "# Introduction\n",
    "\n",
    "In the last session we created our first neural network.\n",
    "\n",
    "We saw that in order to create a neural network, we needed to define a cost function which would allow gradient descent to optimize all the parameters in our network <TODO: Insert animation of gradient descent from previous session>.  We also saw how neural networks become much more expressive by introducing series of linearities followed by non-linearities, or activation functions.  <TODO: Insert graphic of activation functions from previous session>.\n",
    "\n",
    "We then explored a fun application of neural networks using regression to learn to paint color values given x, y positions.  This allowed us to build up a sort of painterly like version of an image.\n",
    "\n",
    "In this session, we'll see how to use some simple deep nets with about 3 or 4 layers capable of performing unsupervised and supervised learning, and I'll explain those terms in a bit.  The components we learn here will let us explore data in some very interesting ways.\n",
    "\n",
    "<a name=\"unsupervised-vs-supervised-learning\"></a>\n",
    "# Unsupervised vs. Supervised Learning\n",
    "\n",
    "Machine learning research in deep networks performs one of two types of learning.  You either have a lot of data and you want the computer to reason about it, maybe to encode the data using less data, and just explore what patterns there might be.  That's useful for clustering data, reducing the dimensionality of the data, or even for generating new data.  That's generally known as unsupervised learning.  In the supervised case, you actually know what you want out of your data.  You have something like a label or a class that is paired with every single piece of data.  In this first half of this session, we'll see how unsupervised learning works using something called an autoencoder and how it can be extended using convolution..  Then we'll get into supervised learning and show how we can build networks for performing regression and classification.  By the end of this session, hopefully all of that will make a little more sense.  Don't worry if it doesn't yet!  Really the best way to learn is to put this stuff into practice in the homeworks.\n",
    "\n",
    "<a name=\"autoencoders\"></a>\n",
    "# Autoencoders\n",
    "\n",
    "<TODO: Graphic of autoencoder network diagram>\n",
    "\n",
    "An autoencoder is a type of neural network that learns to encode its inputs, often using much less data.  It does so in a way that it can still output the original input with just the encoded values.  For it to learn, it does not require \"labels\" as its output.  Instead, it tries to output whatever it was given as input.  So in goes an image, and out should also go the same image.  But it has to be able to retain all the details of the image, even after possibly reducing the information down to just a few numbers.\n",
    "\n",
    "We'll also explore how this method can be extended and used to cluster or organize a dataset, or to explore latent dimensions of a dataset that explain some interesting ideas.  For instance, we'll see how with handwritten numbers, we will be able to see how each number can be encoded in the autoencoder without ever telling it which number is which.\n",
    "\n",
    "<TODO: place teaser of MNIST video learning>\n",
    "\n",
    "But before we get there, we're going to need to develop an understanding of a few more concepts.\n",
    "\n",
    "First, imagine a network that takes as input an image.  The network can be composed of either matrix multiplications or convolutions to any number of filters or dimensions.  At the end of any processing, the network has to be able to recompose the original image it was input.\n",
    "\n",
    "In the last session, we saw how to build a network capable of taking 2 inputs representing the row and column of an image, and predicting 3 outputs, the red, green, and blue colors.  Instead if having 2 inputs, we'll now have an entire image as an input, the brightness of every pixel in our image.  And as output, we're going to have the same thing, the entire image being output.\n",
    "\n",
    "<a name=\"mnist\"></a>\n",
    "## MNIST\n",
    "\n",
    "Let's first get some standard imports:"
   ]
  },
  {
   "cell_type": "code",
   "execution_count": 20,
   "metadata": {
    "collapsed": false
   },
   "outputs": [
    {
     "data": {
      "text/html": [
       "<style> .rendered_html code { \n",
       "    padding: 2px 4px;\n",
       "    color: #c7254e;\n",
       "    background-color: #f9f2f4;\n",
       "    border-radius: 4px;\n",
       "} </style>"
      ],
      "text/plain": [
       "<IPython.core.display.HTML object>"
      ]
     },
     "execution_count": 20,
     "metadata": {},
     "output_type": "execute_result"
    }
   ],
   "source": [
    "# imports\n",
    "%matplotlib inline\n",
    "# %pylab osx\n",
    "import tensorflow as tf\n",
    "import numpy as np\n",
    "import matplotlib.pyplot as plt\n",
    "import matplotlib.colors as colors\n",
    "import matplotlib.cm as cmx\n",
    "# Some additional libraries which we'll use just\n",
    "# to produce some visualizations of our training\n",
    "from libs.utils import montage\n",
    "from libs import gif\n",
    "import IPython.display as ipyd\n",
    "plt.style.use('ggplot')\n",
    "\n",
    "# Bit of formatting because I don't like the default inline code style:\n",
    "from IPython.core.display import HTML\n",
    "HTML(\"\"\"<style> .rendered_html code { \n",
    "    padding: 2px 4px;\n",
    "    color: #c7254e;\n",
    "    background-color: #f9f2f4;\n",
    "    border-radius: 4px;\n",
    "} </style>\"\"\")"
   ]
  },
  {
   "cell_type": "markdown",
   "metadata": {},
   "source": [
    "Then we're going to try this with the MNIST dataset, which I've included a simple interface for in the `libs` module."
   ]
  },
  {
   "cell_type": "code",
   "execution_count": 21,
   "metadata": {
    "collapsed": false
   },
   "outputs": [
    {
     "name": "stdout",
     "output_type": "stream",
     "text": [
      "Extracting MNIST_data/train-images-idx3-ubyte.gz\n",
      "Extracting MNIST_data/train-labels-idx1-ubyte.gz\n",
      "Extracting MNIST_data/t10k-images-idx3-ubyte.gz\n",
      "Extracting MNIST_data/t10k-labels-idx1-ubyte.gz\n"
     ]
    }
   ],
   "source": [
    "from libs.datasets import MNIST\n",
    "ds = MNIST()"
   ]
  },
  {
   "cell_type": "markdown",
   "metadata": {},
   "source": [
    "Let's take a look at what this returns:"
   ]
  },
  {
   "cell_type": "code",
   "execution_count": 22,
   "metadata": {
    "collapsed": true
   },
   "outputs": [],
   "source": [
    "# ds.<tab>"
   ]
  },
  {
   "cell_type": "markdown",
   "metadata": {},
   "source": [
    "So we can see that there are a few interesting accessors.  ... we're not going to worry about the labels until a bit later when we talk about a different type of model which can go from the input image to predicting which label the image is.  But for now, we're going to focus on trying to encode the image and be able to reconstruct the image from our encoding.  let's take a look at the images which are stored in the variable `X`.  Remember, in this course, we'll always use the variable `X` to denote the input to a network. and we'll use the variable `Y` to denote its output."
   ]
  },
  {
   "cell_type": "code",
   "execution_count": 23,
   "metadata": {
    "collapsed": false
   },
   "outputs": [
    {
     "name": "stdout",
     "output_type": "stream",
     "text": [
      "(70000, 784)\n"
     ]
    }
   ],
   "source": [
    "print(ds.X.shape)"
   ]
  },
  {
   "cell_type": "markdown",
   "metadata": {},
   "source": [
    "So each image has 784 features, and there are 70k of them.  If we want to draw the image, we're going to have to reshape it to a square.  28 x 28 is 784.  So we're just going to reshape it to a square so that we can see all the pixels arranged in rows and columns instead of one giant vector."
   ]
  },
  {
   "cell_type": "code",
   "execution_count": 24,
   "metadata": {
    "collapsed": false
   },
   "outputs": [
    {
     "data": {
      "text/plain": [
       "<matplotlib.image.AxesImage at 0x11de00ef0>"
      ]
     },
     "execution_count": 24,
     "metadata": {},
     "output_type": "execute_result"
    },
    {
     "data": {
      "image/png": "[encoded data removed]",
      "text/plain": [
       "<matplotlib.figure.Figure at 0x11a3ccbe0>"
      ]
     },
     "metadata": {},
     "output_type": "display_data"
    }
   ],
   "source": [
    "plt.imshow(ds.X[0].reshape((28, 28)))"
   ]
  },
  {
   "cell_type": "code",
   "execution_count": 25,
   "metadata": {
    "collapsed": false
   },
   "outputs": [
    {
     "data": {
      "text/plain": [
       "<matplotlib.image.AxesImage at 0x11e569ac8>"
      ]
     },
     "execution_count": 25,
     "metadata": {},
     "output_type": "execute_result"
    },
    {
     "data": {
      "image/png": "[encoded data removed]",
      "text/plain": [
       "<matplotlib.figure.Figure at 0x11bdf92b0>"
      ]
     },
     "metadata": {},
     "output_type": "display_data"
    }
   ],
   "source": [
    "# Let's get the first 1000 images of the dataset and reshape them\n",
    "imgs = ds.X[:1000].reshape((-1, 28, 28))\n",
    "\n",
    "# Then create a montage and draw the montage\n",
    "plt.imshow(montage(imgs), cmap='gray')"
   ]
  },
  {
   "cell_type": "markdown",
   "metadata": {},
   "source": [
    "Let's take a look at the mean of the dataset:"
   ]
  },
  {
   "cell_type": "code",
   "execution_count": 26,
   "metadata": {
    "collapsed": false
   },
   "outputs": [
    {
     "data": {
      "text/plain": [
       "<matplotlib.image.AxesImage at 0x11c097358>"
      ]
     },
     "execution_count": 26,
     "metadata": {},
     "output_type": "execute_result"
    },
    {
     "data": {
      "image/png": "[encoded data removed]",
      "text/plain": [
       "<matplotlib.figure.Figure at 0x11de3c048>"
      ]
     },
     "metadata": {},
     "output_type": "display_data"
    }
   ],
   "source": [
    "# Take the mean across all images\n",
    "mean_img = np.mean(ds.X, axis=0)\n",
    "\n",
    "# Then plot the mean image.\n",
    "plt.figure()\n",
    "plt.imshow(mean_img.reshape((28, 28)), cmap='gray')"
   ]
  },
  {
   "cell_type": "markdown",
   "metadata": {},
   "source": [
    "And the standard deviation"
   ]
  },
  {
   "cell_type": "code",
   "execution_count": 27,
   "metadata": {
    "collapsed": false
   },
   "outputs": [
    {
     "data": {
      "text/plain": [
       "<matplotlib.image.AxesImage at 0x11c124c88>"
      ]
     },
     "execution_count": 27,
     "metadata": {},
     "output_type": "execute_result"
    },
    {
     "data": {
      "image/png": "[encoded data removed]",
      "text/plain": [
       "<matplotlib.figure.Figure at 0x11c0753c8>"
      ]
     },
     "metadata": {},
     "output_type": "display_data"
    }
   ],
   "source": [
    "# Take the std across all images\n",
    "std_img = np.std(ds.X, axis=0)\n",
    "\n",
    "# Then plot the std image.\n",
    "plt.figure()\n",
    "plt.imshow(std_img.reshape((28, 28)))"
   ]
  },
  {
   "cell_type": "markdown",
   "metadata": {},
   "source": [
    "So recall from session 1 that these two images are really saying whats more or less contant across every image, and what's changing.  We're going to try and use an autoencoder to try to encode everything that could possibly change in the image.\n",
    "\n",
    "<a name=\"fully-connected-model\"></a>\n",
    "## Fully Connected Model\n",
    "\n",
    "To try and encode our dataset, we are going to build a series of fully connected layers that get progressively smaller.  So in neural net speak, every pixel is going to become its own input neuron.  And from the original 784 neurons, we're going to slowly reduce that information down to smaller and smaller numbers.  It's often standard practice to use other powers of 2 or 10.  I'll create a list of the number of dimensions we'll use for each new layer."
   ]
  },
  {
   "cell_type": "code",
   "execution_count": 28,
   "metadata": {
    "collapsed": true
   },
   "outputs": [],
   "source": [
    "dimensions = [512, 256, 128, 64]"
   ]
  },
  {
   "cell_type": "markdown",
   "metadata": {},
   "source": [
    "So we're going to reduce our 784 dimensions down to 512 by multiplyling them by a 784 x 512 dimensional matrix.  Then we'll do the same thing again using a 512 x 256 dimensional matrix, to reduce our dimensions down to 256 dimensions, and then again to 128 dimensions, then finally to 64.  To get back to the size of the image, we're going to just going to do the reverse.  But we're going to use the exact same matrices.  We do that by taking the transpose of the matrix, which reshapes the matrix so that the rows become columns, and vice-versa.  So our last matrix which was 128 rows x 64 columns, when transposed, becomes 64 rows x 128 columns.\n",
    "\n",
    "So by sharing the weights in the network, we're only really learning half of the network, and those 4 matrices are going to make up the bulk of our model.  We just have to find out what they are using gradient descent.\n",
    "\n",
    "We're first going to create `placeholders` for our tensorflow graph.  We're going to set the first dimension to `None`.  This is something special for placeholders which tells tensorflow \"let this dimension be any possible value\".  1, 5, 100, 1000, it doesn't matter.  We're going to pass our entire dataset in minibatches.  So we'll send 100 images at a time.  But we'd also like to be able to send in only 1 image and see what the prediction of the network is.  That's why we let this dimension be flexible in the graph."
   ]
  },
  {
   "cell_type": "code",
   "execution_count": 32,
   "metadata": {
    "collapsed": true
   },
   "outputs": [],
   "source": [
    "# reset graph\n",
    "tf.reset_default_graph()\n",
    "\n",
    "# So the number of features is the second dimension of our inputs matrix, 784\n",
    "n_features = ds.X.shape[1]\n",
    "\n",
    "# And we'll create a placeholder in the tensorflow graph that will be able to get any number of n_feature inputs.\n",
    "X = tf.placeholder(tf.float32, [None, n_features])"
   ]
  },
  {
   "cell_type": "markdown",
   "metadata": {},
   "source": [
    "Now we're going to create a network which will perform a series of multiplications on `X`, followed by adding a bias, and then wrapping all of this in a non-linearity:"
   ]
  },
  {
   "cell_type": "code",
   "execution_count": 33,
   "metadata": {
    "collapsed": false
   },
   "outputs": [],
   "source": [
    "# let's first copy our X placeholder to the name current_input\n",
    "current_input = X\n",
    "n_input = n_features\n",
    "\n",
    "# We're going to keep every matrix we create so let's create a list to hold them all\n",
    "Ws = []\n",
    "\n",
    "# We'll create a for loop to create each layer:\n",
    "for layer_i, n_output in enumerate(dimensions):\n",
    "\n",
    "    # just like in the last session,\n",
    "    # we'll use a variable scope to help encapsulate our variables\n",
    "    # This will simply prefix all the variables made in this scope\n",
    "    # with the name we give it.\n",
    "    with tf.variable_scope(\"encoder/layer/{}\".format(layer_i)):\n",
    "\n",
    "        # Create a weight matrix which will increasingly reduce\n",
    "        # down the amount of information in the input by performing\n",
    "        # a matrix multiplication\n",
    "        W = tf.get_variable(\n",
    "            name='W',\n",
    "            shape=[n_input, n_output],\n",
    "            initializer=tf.random_normal_initializer(mean=0.0, stddev=0.02))\n",
    "\n",
    "        # Now we'll multiply our input by our newly created W matrix\n",
    "        # and add the bias\n",
    "        h = tf.matmul(current_input, W)\n",
    "\n",
    "        # And then use a relu activation function on its output\n",
    "        current_input = tf.nn.relu(h)\n",
    "\n",
    "        # Finally we'll store the weight matrix so we can build the decoder.\n",
    "        Ws.append(W)\n",
    "\n",
    "        # We'll also replace n_input with the current n_output, so that on the\n",
    "        # next iteration, our new number inputs will be correct.\n",
    "        n_input = n_output"
   ]
  },
  {
   "cell_type": "markdown",
   "metadata": {},
   "source": [
    "So now we've created a series of multiplications in our graph which take us from our input of batch size times number of features which started as `None` x `784`, and then we're multiplying it by a series of matrices which will change the size down to `None` x `64`."
   ]
  },
  {
   "cell_type": "code",
   "execution_count": 34,
   "metadata": {
    "collapsed": false
   },
   "outputs": [
    {
     "name": "stdout",
     "output_type": "stream",
     "text": [
      "(?, 64)\n"
     ]
    }
   ],
   "source": [
    "print(current_input.get_shape())"
   ]
  },
  {
   "cell_type": "markdown",
   "metadata": {},
   "source": [
    "In order to get back to the original dimensions of the image, we're going to reverse everything we just did.  Let's see how we do that:"
   ]
  },
  {
   "cell_type": "code",
   "execution_count": 35,
   "metadata": {
    "collapsed": false
   },
   "outputs": [
    {
     "name": "stdout",
     "output_type": "stream",
     "text": [
      "[128, 256, 512, 784]\n"
     ]
    }
   ],
   "source": [
    "# We'll first reverse the order of our weight matrices\n",
    "Ws = Ws[::-1]\n",
    "\n",
    "# then reverse the order of our dimensions\n",
    "# appending the last layers number of inputs.\n",
    "dimensions = dimensions[::-1][1:] + [ds.X.shape[1]]\n",
    "print(dimensions)"
   ]
  },
  {
   "cell_type": "code",
   "execution_count": 36,
   "metadata": {
    "collapsed": false
   },
   "outputs": [],
   "source": [
    "for layer_i, n_output in enumerate(dimensions):\n",
    "    # we'll use a variable scope again to help encapsulate our variables\n",
    "    # This will simply prefix all the variables made in this scope\n",
    "    # with the name we give it.\n",
    "    with tf.variable_scope(\"decoder/layer/{}\".format(layer_i)):\n",
    "\n",
    "        # Now we'll grab the weight matrix we created before and transpose it\n",
    "        # So a 3072 x 784 matrix would become 784 x 3072\n",
    "        # or a 256 x 64 matrix, would become 64 x 256\n",
    "        W = tf.transpose(Ws[layer_i])\n",
    "\n",
    "        # Now we'll multiply our input by our transposed W matrix\n",
    "        h = tf.matmul(current_input, W)\n",
    "\n",
    "        # And then use a relu activation function on its output\n",
    "        current_input = tf.nn.relu(h)\n",
    "\n",
    "        # We'll also replace n_input with the current n_output, so that on the\n",
    "        # next iteration, our new number inputs will be correct.\n",
    "        n_input = n_output"
   ]
  },
  {
   "cell_type": "markdown",
   "metadata": {},
   "source": [
    "After this, our `current_input` will become the output of the network:"
   ]
  },
  {
   "cell_type": "code",
   "execution_count": 37,
   "metadata": {
    "collapsed": true
   },
   "outputs": [],
   "source": [
    "Y = current_input"
   ]
  },
  {
   "cell_type": "markdown",
   "metadata": {},
   "source": [
    "Now that we have the output of the network, we just need to define a training signal to train the network with.  To do that, we create a cost function which will measure how well the network is doing:"
   ]
  },
  {
   "cell_type": "code",
   "execution_count": 38,
   "metadata": {
    "collapsed": false
   },
   "outputs": [
    {
     "name": "stdout",
     "output_type": "stream",
     "text": [
      "(?,)\n"
     ]
    }
   ],
   "source": [
    "# We'll first measure the average difference across every pixel\n",
    "cost = tf.reduce_mean(tf.squared_difference(X, Y), 1)\n",
    "print(cost.get_shape())"
   ]
  },
  {
   "cell_type": "markdown",
   "metadata": {},
   "source": [
    "And then take the mean again across batches:"
   ]
  },
  {
   "cell_type": "code",
   "execution_count": 39,
   "metadata": {
    "collapsed": true
   },
   "outputs": [],
   "source": [
    "cost = tf.reduce_mean(cost)"
   ]
  },
  {
   "cell_type": "markdown",
   "metadata": {},
   "source": [
    "We can now train our network just like we did in the last session.  We'll need to create an optimizer which takes a parameter `learning_rate`.  And we tell it that we want to minimize our cost, which is measuring the difference between the output of the network and the input."
   ]
  },
  {
   "cell_type": "code",
   "execution_count": 40,
   "metadata": {
    "collapsed": true
   },
   "outputs": [],
   "source": [
    "learning_rate = 0.001\n",
    "optimizer = tf.train.AdamOptimizer(learning_rate).minimize(cost)"
   ]
  },
  {
   "cell_type": "markdown",
   "metadata": {},
   "source": [
    "Now we'll create a session to manage the training in minibatches:"
   ]
  },
  {
   "cell_type": "code",
   "execution_count": 41,
   "metadata": {
    "collapsed": true
   },
   "outputs": [],
   "source": [
    "# %%\n",
    "# We create a session to use the graph\n",
    "sess = tf.Session()\n",
    "sess.run(tf.global_variables_initializer())"
   ]
  },
  {
   "cell_type": "markdown",
   "metadata": {},
   "source": [
    "Now we'll train:"
   ]
  },
  {
   "cell_type": "code",
   "execution_count": 42,
   "metadata": {
    "collapsed": false
   },
   "outputs": [
    {
     "name": "stdout",
     "output_type": "stream",
     "text": [
      "0 0.0514031\n",
      "1 0.0376442\n",
      "2 0.0352433\n",
      "3 0.0320117\n",
      "4 0.0297279\n"
     ]
    },
    {
     "data": {
      "text/plain": [
       "<matplotlib.animation.ArtistAnimation at 0x10c4f35c0>"
      ]
     },
     "execution_count": 42,
     "metadata": {},
     "output_type": "execute_result"
    },
    {
     "data": {
      "image/png": "[encoded data removed]",
      "text/plain": [
       "<matplotlib.figure.Figure at 0x11de4c550>"
      ]
     },
     "metadata": {},
     "output_type": "display_data"
    },
    {
     "data": {
      "image/png": "[encoded data removed]",
      "text/plain": [
       "<matplotlib.figure.Figure at 0x11c48c978>"
      ]
     },
     "metadata": {},
     "output_type": "display_data"
    }
   ],
   "source": [
    "# Some parameters for training\n",
    "batch_size = 100\n",
    "n_epochs = 5\n",
    "\n",
    "# We'll try to reconstruct the same first 100 images and show how\n",
    "# The network does over the course of training.\n",
    "examples = ds.X[:100]\n",
    "\n",
    "# We'll store the reconstructions in a list\n",
    "imgs = []\n",
    "fig, ax = plt.subplots(1, 1)\n",
    "for epoch_i in range(n_epochs):\n",
    "    for batch_X, _ in ds.train.next_batch():\n",
    "        sess.run(optimizer, feed_dict={X: batch_X - mean_img})\n",
    "    recon = sess.run(Y, feed_dict={X: examples - mean_img})\n",
    "    recon = np.clip((recon + mean_img).reshape((-1, 28, 28)), 0, 255)\n",
    "    img_i = montage(recon).astype(np.uint8)\n",
    "    imgs.append(img_i)\n",
    "    ax.imshow(img_i, cmap='gray')\n",
    "    fig.canvas.draw()\n",
    "    print(epoch_i, sess.run(cost, feed_dict={X: batch_X - mean_img}))\n",
    "gif.build_gif(imgs, saveto='ae.gif', cmap='gray')"
   ]
  },
  {
   "cell_type": "code",
   "execution_count": 21,
   "metadata": {
    "collapsed": false
   },
   "outputs": [
    {
     "data": {
      "text/html": [
       "<img src=\"ae.gif?0.6955654442392385\" width=\"500\" height=\"500\"/>"
      ],
      "text/plain": [
       "<IPython.core.display.Image object>"
      ]
     },
     "execution_count": 21,
     "metadata": {},
     "output_type": "execute_result"
    }
   ],
   "source": [
    "ipyd.Image(url='ae.gif?{}'.format(np.random.rand()),\n",
    "           height=500, width=500)"
   ]
  },
  {
   "cell_type": "markdown",
   "metadata": {},
   "source": [
    "<a name=\"convolutional-autoencoder\"></a>\n",
    "## Convolutional Autoencoder\n",
    "\n",
    "To get even better encodings, we can also try building a convolutional network.  Why would a convolutional network perform any different to a fully connected one?  Let's see what we were doing in the fully connected network.  For every pixel in our input, we have a set of weights corresponding to every output neuron.  Those weights are unique to each pixel.  Each pixel gets its own row in the weight matrix.  That really doesn't make a lot of sense, since we would guess that nearby pixels are probably not going to be so different.  And we're not really encoding what's happening around that pixel, just what that one pixel is doing.\n",
    "\n",
    "In a convolutional model, we're explicitly modeling what happens around a pixel.  And we're using the exact same convolutions no matter where in the image we are.  But we're going to use a lot of different convolutions.\n",
    "\n",
    "Recall in session 1 we created a Gaussian and Gabor kernel and used this to convolve an image to either blur it or to accentuate edges.  Armed with what you know now, you could try to train a network to learn the parameters that map an untouched image to a blurred or edge filtered version of it.  What you should find is the kernel will look sort of what we built by hand.  I'll leave that as an excercise for you.\n",
    "\n",
    "But in fact, that's too easy really.  That's just 1 filter you would have to learn.  We're going to see how we can use many convolutional filters, way more than 1, and how it will help us to encode the MNIST dataset.\n",
    "\n",
    "To begin we'll need to reset the current graph and start over."
   ]
  },
  {
   "cell_type": "code",
   "execution_count": 50,
   "metadata": {
    "collapsed": true
   },
   "outputs": [],
   "source": [
    "from tensorflow.python.framework.ops import reset_default_graph\n",
    "reset_default_graph()"
   ]
  },
  {
   "cell_type": "code",
   "execution_count": 51,
   "metadata": {
    "collapsed": true
   },
   "outputs": [],
   "source": [
    "# And we'll create a placeholder in the tensorflow graph that will be able to get any number of n_feature inputs.\n",
    "X = tf.placeholder(tf.float32, [None, n_features])"
   ]
  },
  {
   "cell_type": "markdown",
   "metadata": {},
   "source": [
    "Since `X` is currently `[batch, height*width]`, we need to reshape it to a\n",
    "4-D tensor to use it in a convolutional graph.  Remember back to the first session that in order to perform convolution, we have to use 4-dimensional tensors describing the:\n",
    "\n",
    "`N x H x W x C`\n",
    "\n",
    "We'll reshape our input placeholder by telling the `shape` parameter to be these new dimensions.  However, since our batch dimension is `None`, we cannot reshape without using the special value `-1`, which says that the size of that dimension should be computed so that the total size remains constant.  Since we haven't defined the batch dimension's shape yet, we use `-1` to denote this\n",
    "dimension should not change size."
   ]
  },
  {
   "cell_type": "code",
   "execution_count": 52,
   "metadata": {
    "collapsed": true
   },
   "outputs": [],
   "source": [
    "X_tensor = tf.reshape(X, [-1, 28, 28, 1])"
   ]
  },
  {
   "cell_type": "markdown",
   "metadata": {},
   "source": [
    "We'll now setup the first convolutional layer.  Remember from Session 2 that the weight matrix for convolution should be\n",
    "\n",
    "`[height x width x input_channels x output_channels]`\n",
    "\n",
    "Think a moment about how this is different to the fully connected network.  In the fully connected network, every pixel was being multiplied by its own weight to every other neuron.  With a convolutional network, we use the extra dimensions to allow the same set of filters to be applied everywhere across an image.  This is also known in the literature as weight sharing, since we're sharing the weights no matter where in the input we are.  That's unlike the fully connected approach, which has unique weights for every pixel.  What's more is after we've performed the convolution, we've retained the spatial organization of the input.  We still have dimensions of height and width.  That's again unlike the fully connected network which effectively shuffles or takes int account information from everywhere, not at all caring about where anything is.  That can be useful or not depending on what we're trying to achieve.  Often, it is something we might want to do after a series of convolutions to encode translation invariance.  Don't worry about that for now.  With MNIST especially we won't need to do that since all of the numbers are in the same position.\n",
    "\n",
    "Now with our tensor ready, we're going to do what we've just done with the fully connected autoencoder.  Except, instead of performing matrix multiplications, we're going to create convolution operations.  To do that, we'll need to decide on a few parameters including the filter size, how many convolution filters we want, and how many layers we want.  I'll start with a fairly small network, and let you scale this up in your own time."
   ]
  },
  {
   "cell_type": "code",
   "execution_count": 53,
   "metadata": {
    "collapsed": true
   },
   "outputs": [],
   "source": [
    "n_filters = [16, 16, 16]\n",
    "filter_sizes = [4, 4, 4]"
   ]
  },
  {
   "cell_type": "markdown",
   "metadata": {},
   "source": [
    "Now we'll create a loop to create every layer's convolution, storing the convolution operations we create so that we can do the reverse."
   ]
  },
  {
   "cell_type": "code",
   "execution_count": 54,
   "metadata": {
    "collapsed": true
   },
   "outputs": [],
   "source": [
    "current_input = X_tensor\n",
    "\n",
    "# notice instead of having 784 as our input features, we're going to have\n",
    "# just 1, corresponding to the number of channels in the image.\n",
    "# We're going to use convolution to find 16 filters, or 16 channels of information in each spatial location we perform convolution at.\n",
    "n_input = 1\n",
    "\n",
    "# We're going to keep every matrix we create so let's create a list to hold them all\n",
    "Ws = []\n",
    "shapes = []\n",
    "\n",
    "# We'll create a for loop to create each layer:\n",
    "for layer_i, n_output in enumerate(n_filters):\n",
    "    # just like in the last session,\n",
    "    # we'll use a variable scope to help encapsulate our variables\n",
    "    # This will simply prefix all the variables made in this scope\n",
    "    # with the name we give it.\n",
    "    with tf.variable_scope(\"encoder/layer/{}\".format(layer_i)):\n",
    "        # we'll keep track of the shapes of each layer\n",
    "        # As we'll need these for the decoder\n",
    "        shapes.append(current_input.get_shape().as_list())\n",
    "\n",
    "        # Create a weight matrix which will increasingly reduce\n",
    "        # down the amount of information in the input by performing\n",
    "        # a matrix multiplication\n",
    "        W = tf.get_variable(\n",
    "            name='W',\n",
    "            shape=[\n",
    "                filter_sizes[layer_i],\n",
    "                filter_sizes[layer_i],\n",
    "                n_input,\n",
    "                n_output],\n",
    "            initializer=tf.random_normal_initializer(mean=0.0, stddev=0.02))\n",
    "\n",
    "        # Now we'll convolve our input by our newly created W matrix\n",
    "        h = tf.nn.conv2d(current_input, W,\n",
    "            strides=[1, 2, 2, 1], padding='SAME')\n",
    "\n",
    "        # And then use a relu activation function on its output\n",
    "        current_input = tf.nn.relu(h)\n",
    "\n",
    "        # Finally we'll store the weight matrix so we can build the decoder.\n",
    "        Ws.append(W)\n",
    "\n",
    "        # We'll also replace n_input with the current n_output, so that on the\n",
    "        # next iteration, our new number inputs will be correct.\n",
    "        n_input = n_output"
   ]
  },
  {
   "cell_type": "markdown",
   "metadata": {},
   "source": [
    "Now with our convolutional encoder built and the encoding weights stored, we'll reverse the whole process to decode everything back out to the original image."
   ]
  },
  {
   "cell_type": "code",
   "execution_count": 55,
   "metadata": {
    "collapsed": false
   },
   "outputs": [
    {
     "name": "stdout",
     "output_type": "stream",
     "text": [
      "[16, 16, 1] [4, 4, 4] [[None, 7, 7, 16], [None, 14, 14, 16], [None, 28, 28, 1]]\n"
     ]
    }
   ],
   "source": [
    "# We'll first reverse the order of our weight matrices\n",
    "Ws.reverse()\n",
    "# and the shapes of each layer\n",
    "shapes.reverse()\n",
    "# and the number of filters (which is the same but could have been different)\n",
    "n_filters.reverse()\n",
    "# and append the last filter size which is our input image's number of channels\n",
    "n_filters = n_filters[1:] + [1]\n",
    "\n",
    "print(n_filters, filter_sizes, shapes)"
   ]
  },
  {
   "cell_type": "code",
   "execution_count": 56,
   "metadata": {
    "collapsed": true
   },
   "outputs": [],
   "source": [
    "# and then loop through our convolution filters and get back our input image\n",
    "# we'll enumerate the shapes list to get us there\n",
    "for layer_i, shape in enumerate(shapes):\n",
    "    # we'll use a variable scope to help encapsulate our variables\n",
    "    # This will simply prefix all the variables made in this scope\n",
    "    # with the name we give it.\n",
    "    with tf.variable_scope(\"decoder/layer/{}\".format(layer_i)):\n",
    "\n",
    "        # Create a weight matrix which will increasingly reduce\n",
    "        # down the amount of information in the input by performing\n",
    "        # a matrix multiplication\n",
    "        W = Ws[layer_i]\n",
    "\n",
    "        # Now we'll convolve by the transpose of our previous convolution tensor\n",
    "        h = tf.nn.conv2d_transpose(current_input, W,\n",
    "            tf.pack([tf.shape(X)[0], shape[1], shape[2], shape[3]]),\n",
    "            strides=[1, 2, 2, 1], padding='SAME')\n",
    "\n",
    "        # And then use a relu activation function on its output\n",
    "        current_input = tf.nn.relu(h)"
   ]
  },
  {
   "cell_type": "markdown",
   "metadata": {},
   "source": [
    "Now we have the reconstruction through the network:"
   ]
  },
  {
   "cell_type": "code",
   "execution_count": 57,
   "metadata": {
    "collapsed": true
   },
   "outputs": [],
   "source": [
    "Y = current_input\n",
    "Y = tf.reshape(Y, [-1, n_features])"
   ]
  },
  {
   "cell_type": "markdown",
   "metadata": {},
   "source": [
    "We can measure the cost and train exactly like before with the fully connected network:"
   ]
  },
  {
   "cell_type": "code",
   "execution_count": 58,
   "metadata": {
    "collapsed": false
   },
   "outputs": [
    {
     "name": "stdout",
     "output_type": "stream",
     "text": [
      "0 0.0266073\n",
      "1 0.0248086\n",
      "2 0.024251\n",
      "3 0.0249367\n",
      "4 0.0241772\n"
     ]
    },
    {
     "data": {
      "text/plain": [
       "<matplotlib.animation.ArtistAnimation at 0x11b6155c0>"
      ]
     },
     "execution_count": 58,
     "metadata": {},
     "output_type": "execute_result"
    },
    {
     "data": {
      "image/png": "[encoded data removed]",
      "text/plain": [
       "<matplotlib.figure.Figure at 0x11c18a4e0>"
      ]
     },
     "metadata": {},
     "output_type": "display_data"
    },
    {
     "data": {
      "image/png": "[encoded data removed]",
      "text/plain": [
       "<matplotlib.figure.Figure at 0x10c5a4400>"
      ]
     },
     "metadata": {},
     "output_type": "display_data"
    }
   ],
   "source": [
    "cost = tf.reduce_mean(tf.reduce_mean(tf.squared_difference(X, Y), 1))\n",
    "learning_rate = 0.001\n",
    "\n",
    "# pass learning rate and cost to optimize\n",
    "optimizer = tf.train.AdamOptimizer(learning_rate).minimize(cost)\n",
    "\n",
    "# Session to manage vars/train\n",
    "sess = tf.Session()\n",
    "sess.run(tf.global_variables_initializer())\n",
    "\n",
    "# Some parameters for training\n",
    "batch_size = 100\n",
    "n_epochs = 5\n",
    "\n",
    "# We'll try to reconstruct the same first 100 images and show how\n",
    "# The network does over the course of training.\n",
    "examples = ds.X[:100]\n",
    "\n",
    "# We'll store the reconstructions in a list\n",
    "imgs = []\n",
    "fig, ax = plt.subplots(1, 1)\n",
    "for epoch_i in range(n_epochs):\n",
    "    for batch_X, _ in ds.train.next_batch():\n",
    "        sess.run(optimizer, feed_dict={X: batch_X - mean_img})\n",
    "    recon = sess.run(Y, feed_dict={X: examples - mean_img})\n",
    "    recon = np.clip((recon + mean_img).reshape((-1, 28, 28)), 0, 255)\n",
    "    img_i = montage(recon).astype(np.uint8)\n",
    "    imgs.append(img_i)\n",
    "    ax.imshow(img_i, cmap='gray')\n",
    "    fig.canvas.draw()\n",
    "    print(epoch_i, sess.run(cost, feed_dict={X: batch_X - mean_img}))\n",
    "gif.build_gif(imgs, saveto='conv-ae.gif', cmap='gray')"
   ]
  },
  {
   "cell_type": "code",
   "execution_count": 31,
   "metadata": {
    "collapsed": false
   },
   "outputs": [
    {
     "data": {
      "text/html": [
       "<img src=\"conv-ae.gif?0.6145187909355793\" width=\"500\" height=\"500\"/>"
      ],
      "text/plain": [
       "<IPython.core.display.Image object>"
      ]
     },
     "execution_count": 31,
     "metadata": {},
     "output_type": "execute_result"
    }
   ],
   "source": [
    "ipyd.Image(url='conv-ae.gif?{}'.format(np.random.rand()),\n",
    "           height=500, width=500)"
   ]
  },
  {
   "cell_type": "markdown",
   "metadata": {},
   "source": [
    "<a name=\"denoising-autoencoder\"></a>\n",
    "## Denoising Autoencoder\n",
    "\n",
    "The denoising autoencoder is a very simple extension to an autoencoder.  Instead of seeing the input, it is corrupted, for instance by masked noise.  but the reconstruction loss is still measured on the original uncorrupted image.  What this does is lets the model try to interpret occluded or missing parts of the thing it is reasoning about.  It would make sense for many models, that not every datapoint in an input is necessary to understand what is going on.  Denoising autoencoders try to enforce that, and as a result, the encodings at the middle most layer are often far more representative of the actual classes of different objects.\n",
    "\n",
    "In the resources section, you'll see that I've included a general framework autoencoder allowing you to use either a fully connected or convolutional autoencoder, and whether or not to include denoising.  If you interested in the mechanics of how this works, I encourage you to have a look at the code.\n",
    "\n",
    "<a name=\"variational-autoencoders\"></a>\n",
    "## Variational Autoencoders\n",
    "\n",
    "A variational autoencoder extends the traditional autoencoder by using an additional layer called the variational layer.  It is actually two networks that are cleverly connected using a simple reparameterization trick, to help the gradient flow through both networks during backpropagation allowing both to be optimized.\n",
    "\n",
    "We dont' have enough time to get into the details, but I'll try to quickly explain:  it tries to optimize the likelihood that a particular distribution would create an image, rather than trying to optimize simply the L2 loss at the end of the network.  Or put another way it hopes that there is some distribution that a distribution of image encodings could be defined as.  This is a bit tricky to grasp, so don't worry if you don't understand the details.  The major difference to hone in on is that instead of optimizing distance in the input space of pixel to pixel distance, which is actually quite arbitrary if you think about it... why would we care about the exact pixels being the same?  Human vision would not care for most cases, if there was a slight translation of our image, then the distance could be very high, but we would never be able to tell the difference.  So intuitively, measuring error based on raw pixel to pixel distance is not such a great approach.\n",
    "\n",
    "Instead of relying on raw pixel differences, the variational autoencoder tries to optimize two networks.  One which says that given my pixels, I am pretty sure I can encode them to the parameters of some well known distribution, like a set of Gaussians, instead of some artbitrary density of values.  And then I can optimize the latent space, by saying that particular distribution should be able to represent my entire dataset, and I try to optimize the likelihood that it will create the images I feed through a network.  So distance is somehow encoded in this latent space.  Of course I appreciate that is a difficult concept so forgive me for not being able to expand on it in more details.\n",
    "\n",
    "But to make up for the lack of time and explanation, I've included this model under the resources section for you to play with!  Just like the \"vanilla\" autoencoder, this one supports both fully connected, convolutional, and denoising models.\n",
    "\n",
    "This model performs so much better than the vanilla autoencoder.  In fact, it performs so well that I can even manage to encode the majority of MNIST into 2 values.  The following visualization demonstrates the learning of a variational autoencoder over time.\n",
    "\n",
    "<mnist visualization>\n",
    "\n",
    "There are of course a lot more interesting applications of such a model.  You could for instance, try encoding a more interesting dataset, such as CIFAR which you'll find a wrapper for in the libs/datasets module.\n",
    "\n",
    "<TODO: produce GIF visualization madness>\n",
    "\n",
    "Or the celeb faces dataset:\n",
    "\n",
    "<celeb dataset>\n",
    "\n",
    "Or you could try encoding an entire movie.  We tried it with the copyleft movie, \"Sita Sings The Blues\".  Every 2 seconds, we stored an image of this movie, and then fed all of these images to a deep variational autoencoder.  This is the result.\n",
    "\n",
    "<show sita sings the blues training images>\n",
    "\n",
    "And I'm sure we can get closer with deeper nets and more train time.  But notice how in both celeb faces and sita sings the blues, the decoding is really blurred.  That is because of the assumption of the underlying representational space.  We're saying the latent space must be modeled as a gaussian, and those factors must be distributed as a gaussian.  This enforces a sort of discretization of my representation, enforced by the noise parameter of the gaussian.  In the last session, we'll see how we can avoid this sort of blurred representation and get even better decodings using a generative adversarial network.\n",
    "\n",
    "For now, consider the applications that this method opens up.  Once you have an encoding of a movie, or image dataset, you are able to do some very interesting things.  You have effectively stored all the representations of that movie, although its not perfect of course.  But, you could for instance, see how another movie would be interpretted by the same network.  That's similar to what Terrance Broad did for his project on reconstructing blade runner and a scanner darkly, though he made use of both the variational autoencoder and the generative adversarial network.  We're going to look at that network in more detail in the last session.\n",
    "\n",
    "We'll also look at how to properly handle very large datasets like celeb faces or the one used here to create the sita sings the blues autoencoder.  Taking every 60th frame of Sita Sings The Blues gives you aobut 300k images.  And that's a lot of data to try and load in all at once.  We had to size it down considerably, and make use of what's called a tensorflow input pipeline.  I've included all the code for training this network, which took about 1 day on a fairly powerful machine, but I will not get into the details of the image pipeline bits until session 5 when we look at generative adversarial networks.  I'm delaying this because we'll need to learn a few things along the way before we can build such a network.\n",
    "\n",
    "<a name=\"predicting-image-labels\"></a>\n",
    "# Predicting Image Labels\n",
    "\n",
    "We've just seen a variety of types of autoencoders and how they are capable of compressing information down to its inner most layer while still being able to retain most of the interesting details.  Considering that the CelebNet dataset was nearly 200 thousand images of 64 x 64 x 3 pixels, and we're able to express those with just an inner layer of 50 values, that's just magic basically.  Magic.\n",
    "\n",
    "Okay, let's move on now to a different type of learning often called supervised learning.  Unlike what we just did, which is work with a set of data and not have any idea what that data should be *labeled* as, we're going to explicitly tell the network what we want it to be labeled by saying what the network should output for a given input.  In the previous cause, we just had a set of `Xs`, our images.  Now, we're going to have `Xs` and `Ys` given to us, and use the `Xs` to try and output the `Ys`.\n",
    "\n",
    "With MNIST, the outputs of each image are simply what numbers are drawn in the input image.  The wrapper for grabbing this dataset from the libs module takes an additional parameter which I didn't talk about called `one_hot`."
   ]
  },
  {
   "cell_type": "code",
   "execution_count": 59,
   "metadata": {
    "collapsed": true
   },
   "outputs": [],
   "source": [
    "from libs import datasets\n",
    "# ds = datasets.MNIST(one_hot=True)"
   ]
  },
  {
   "cell_type": "markdown",
   "metadata": {},
   "source": [
    "To see what this is doing, let's compare setting it to false versus true:"
   ]
  },
  {
   "cell_type": "code",
   "execution_count": 60,
   "metadata": {
    "collapsed": false
   },
   "outputs": [
    {
     "name": "stdout",
     "output_type": "stream",
     "text": [
      "Extracting MNIST_data/train-images-idx3-ubyte.gz\n",
      "Extracting MNIST_data/train-labels-idx1-ubyte.gz\n",
      "Extracting MNIST_data/t10k-images-idx3-ubyte.gz\n",
      "Extracting MNIST_data/t10k-labels-idx1-ubyte.gz\n",
      "0\n"
     ]
    },
    {
     "data": {
      "text/plain": [
       "<matplotlib.image.AxesImage at 0x11b69e4a8>"
      ]
     },
     "execution_count": 60,
     "metadata": {},
     "output_type": "execute_result"
    },
    {
     "data": {
      "image/png": "[encoded data removed]",
      "text/plain": [
       "<matplotlib.figure.Figure at 0x11bb170f0>"
      ]
     },
     "metadata": {},
     "output_type": "display_data"
    }
   ],
   "source": [
    "ds = datasets.MNIST(one_hot=False)\n",
    "# let's look at the first label\n",
    "print(ds.Y[0])\n",
    "# okay and what does the input look like\n",
    "plt.imshow(np.reshape(ds.X[0], (28, 28)), cmap='gray')\n",
    "# great it is just the label of the image"
   ]
  },
  {
   "cell_type": "code",
   "execution_count": 61,
   "metadata": {
    "collapsed": false
   },
   "outputs": [
    {
     "name": "stdout",
     "output_type": "stream",
     "text": [
      "5\n"
     ]
    },
    {
     "data": {
      "text/plain": [
       "<matplotlib.image.AxesImage at 0x11b9b1cc0>"
      ]
     },
     "execution_count": 61,
     "metadata": {},
     "output_type": "execute_result"
    },
    {
     "data": {
      "image/png": "[encoded data removed]",
      "text/plain": [
       "<matplotlib.figure.Figure at 0x11b6b4780>"
      ]
     },
     "metadata": {},
     "output_type": "display_data"
    }
   ],
   "source": [
    "plt.figure()\n",
    "# Let's look at the next one just to be sure\n",
    "print(ds.Y[1])\n",
    "# Yea the same idea\n",
    "plt.imshow(np.reshape(ds.X[1], (28, 28)), cmap='gray')"
   ]
  },
  {
   "cell_type": "markdown",
   "metadata": {},
   "source": [
    "And now let's look at what the one hot version looks like:"
   ]
  },
  {
   "cell_type": "code",
   "execution_count": 62,
   "metadata": {
    "collapsed": false
   },
   "outputs": [
    {
     "name": "stdout",
     "output_type": "stream",
     "text": [
      "Extracting MNIST_data/train-images-idx3-ubyte.gz\n",
      "Extracting MNIST_data/train-labels-idx1-ubyte.gz\n",
      "Extracting MNIST_data/t10k-images-idx3-ubyte.gz\n",
      "Extracting MNIST_data/t10k-labels-idx1-ubyte.gz\n",
      "[ 0.  1.  0.  0.  0.  0.  0.  0.  0.  0.]\n",
      "[ 0.  0.  0.  0.  0.  0.  1.  0.  0.  0.]\n"
     ]
    },
    {
     "data": {
      "image/png": "[encoded data removed]",
      "text/plain": [
       "<matplotlib.figure.Figure at 0x11bbd4c88>"
      ]
     },
     "metadata": {},
     "output_type": "display_data"
    }
   ],
   "source": [
    "ds = datasets.MNIST(one_hot=True)\n",
    "plt.figure()\n",
    "plt.imshow(np.reshape(ds.X[0], (28, 28)), cmap='gray')\n",
    "print(ds.Y[0])\n",
    "# array([ 0.,  0.,  0.,  0.,  0.,  0.,  0.,  1.,  0.,  0.])\n",
    "# Woah a bunch more numbers.  10 to be exact, which is also the number\n",
    "# of different labels in the dataset.\n",
    "plt.imshow(np.reshape(ds.X[1], (28, 28)), cmap='gray')\n",
    "print(ds.Y[1])\n",
    "# array([ 0.,  0.,  0.,  1.,  0.,  0.,  0.,  0.,  0.,  0.])"
   ]
  },
  {
   "cell_type": "markdown",
   "metadata": {},
   "source": [
    "So instead of have a number from 0-9, we have 10 numbers corresponding to the digits, 0-9, and each value is either 0 or 1.  Whichever digit the image represents is the one that is 1.\n",
    "\n",
    "To summarize, we have all of the images of the dataset stored as:\n",
    "`n_observations` x `n_features` tensor (n-dim array)"
   ]
  },
  {
   "cell_type": "code",
   "execution_count": 36,
   "metadata": {
    "collapsed": false
   },
   "outputs": [
    {
     "name": "stdout",
     "output_type": "stream",
     "text": [
      "(70000, 784)\n"
     ]
    }
   ],
   "source": [
    "print(ds.X.shape)"
   ]
  },
  {
   "cell_type": "markdown",
   "metadata": {},
   "source": [
    "And labels stored as `n_observations` x `n_labels` where each observation is a one-hot vector, where only one element is 1 indicating which class or label it is."
   ]
  },
  {
   "cell_type": "code",
   "execution_count": 37,
   "metadata": {
    "collapsed": false
   },
   "outputs": [
    {
     "name": "stdout",
     "output_type": "stream",
     "text": [
      "(70000, 10)\n",
      "[ 0.  0.  0.  0.  0.  0.  0.  1.  0.  0.]\n"
     ]
    }
   ],
   "source": [
    "print(ds.Y.shape)\n",
    "print(ds.Y[0])"
   ]
  },
  {
   "cell_type": "markdown",
   "metadata": {},
   "source": [
    "<a name=\"one-hot-encoding\"></a>\n",
    "## One-Hot Encoding\n",
    "\n",
    "Remember in the last session, we saw how to build a network capable of taking 2 inputs representing the row and column of an image, and predicting 3 outputs, the red, green, and blue colors.  Just like in our unsupervised model, instead of having 2 inputs, we'll now have 784 inputs, the brightness of every pixel in our image.  And instead of 3 outputs, like in our painting network from last session, or the 784 outputs we had in our unsupervised MNIST network, we'll now have 10 outputs representing the one-hot encoding of its label.\n",
    "\n",
    "So why don't we just have 1 output?  A number from 0-9?  Wouldn't having 10 different outputs instead of just 1 be harder to learn?  Consider how we normally train the network.  We have to give it a cost which it will use to minimize.  What could our cost be if our output was just a single number, 0-9?  We would still have the true label, and the predicted label.  Could we just take the subtraction of the two values?  e.g. the network predicted 0, but the image was really the number 8.  Okay so then our distance could be:"
   ]
  },
  {
   "cell_type": "code",
   "execution_count": 38,
   "metadata": {
    "collapsed": true
   },
   "outputs": [],
   "source": [
    "# cost = tf.reduce_sum(tf.abs(y_pred - y_true))"
   ]
  },
  {
   "cell_type": "markdown",
   "metadata": {},
   "source": [
    "But in this example, the cost would be 8.  If the image was a 4, and the network predicted a 0 again, the cost would be 4... but isn't the network still just as wrong, not half as much as when the image was an 8?  In a one-hot encoding, the cost would be 1 for both, meaning they are both just as wrong.  So we're able to better measure the cost, by separating each class's label into its own dimension.\n",
    "\n",
    "<a name=\"using-regression-for-classification\"></a>\n",
    "## Using Regression for Classification\n",
    "\n",
    "The network we build will be trained to output values between 0 and 1.  They won't output exactly a 0 or 1.  But rather, they are able to produce any value.  0, 0.1, 0.2, ...  and that means the networks we've been using are actually performing regression.  In regression, the output is \"continuous\", rather than \"discrete\".  The difference is this: a *discrete* output means the network can only output one of a few things.  Like, 0, 1, 2, or 3, and that's it.  But a *continuous* output means it can output any real number.\n",
    "\n",
    "In order to perform what's called classification, we're just simply going to look at whichever value is the highest in our one hot encoding.  In order to do that a little better, we're actually going interpret our one hot encodings as probabilities by scaling the total output by their sum.  What this does is allows us to understand that as we grow more confident in one prediction, we should grow less confident in all other predictions. We only have so much certainty to go around, enough to add up to 1.  If we think the image might also be the number 1, then we lose some certainty of it being the number 0.\n",
    "\n",
    "It turns out there is a better cost function that simply measuring the distance between two vectors when they are probabilities.  It's called cross entropy:\n",
    "\n",
    "\\begin{align}\n",
    "\\Large{H(x) = -\\sum{y_{\\text{t}}(x) * \\log(y_{\\text{p}}(x))}}\n",
    "\\end{align}\n",
    "\n",
    "What this equation does is measures the similarity of our prediction with our true distribution, by exponentially increasing error whenever our prediction gets closer to 1 when it should be 0, and similarly by exponentially increasing error whenever our prediction gets closer to 0, when it should be 1.   I won't go into more detail here, but just know that we'll be using this measure instead of a normal distance measure.\n",
    "\n",
    "<a name=\"fully-connected-network\"></a>\n",
    "## Fully Connected Network\n",
    "\n",
    "### Defining the Network\n",
    "\n",
    "Let's see how our one hot encoding and our new cost function will come into play.  We'll create our network for predicting image classes in pretty much the same way we've created previous networks:\n",
    "\n",
    "We will have as input to the network 28 x 28 values."
   ]
  },
  {
   "cell_type": "code",
   "execution_count": 63,
   "metadata": {
    "collapsed": false
   },
   "outputs": [
    {
     "name": "stdout",
     "output_type": "stream",
     "text": [
      "Extracting MNIST_data/train-images-idx3-ubyte.gz\n",
      "Extracting MNIST_data/train-labels-idx1-ubyte.gz\n",
      "Extracting MNIST_data/t10k-images-idx3-ubyte.gz\n",
      "Extracting MNIST_data/t10k-labels-idx1-ubyte.gz\n"
     ]
    }
   ],
   "source": [
    "import tensorflow as tf\n",
    "from libs import datasets\n",
    "ds = datasets.MNIST(split=[0.8, 0.1, 0.1])\n",
    "n_input = 28 * 28"
   ]
  },
  {
   "cell_type": "markdown",
   "metadata": {},
   "source": [
    "As output, we have our 10 one-hot-encoding values"
   ]
  },
  {
   "cell_type": "code",
   "execution_count": 64,
   "metadata": {
    "collapsed": true
   },
   "outputs": [],
   "source": [
    "n_output = 10"
   ]
  },
  {
   "cell_type": "markdown",
   "metadata": {},
   "source": [
    "We're going to create placeholders for our tensorflow graph.  We're going to set the first dimension to `None`.  Remember from our unsupervised model, this is just something special for placeholders which tells tensorflow \"let this dimension be any possible value\".  1, 5, 100, 1000, it doesn't matter.  Since we're going to pass our entire dataset in batches we'll need this to be say 100 images at a time.  But we'd also like to be able to send in only 1 image and see what the prediction of the network is.  That's why we let this dimension be flexible."
   ]
  },
  {
   "cell_type": "code",
   "execution_count": 65,
   "metadata": {
    "collapsed": true
   },
   "outputs": [],
   "source": [
    "X = tf.placeholder(tf.float32, [None, n_input])"
   ]
  },
  {
   "cell_type": "markdown",
   "metadata": {},
   "source": [
    "For the output, we'll have `None` again, since for every input, we'll have the same number of images that have outputs."
   ]
  },
  {
   "cell_type": "code",
   "execution_count": 66,
   "metadata": {
    "collapsed": true
   },
   "outputs": [],
   "source": [
    "Y = tf.placeholder(tf.float32, [None, n_output])"
   ]
  },
  {
   "cell_type": "markdown",
   "metadata": {},
   "source": [
    "Now we'll connect our input to the output with a linear layer.  Instead of `relu`, we're going to use `softmax`.  This will perform our exponential scaling of the outputs and make sure the output sums to 1, making it a probability."
   ]
  },
  {
   "cell_type": "code",
   "execution_count": 67,
   "metadata": {
    "collapsed": false
   },
   "outputs": [],
   "source": [
    "# We'll use the linear layer we created in the last session, which I've stored in the libs file:\n",
    "# NOTE: The lecture used an older version of this function which had a slightly different definition.\n",
    "from libs import utils\n",
    "Y_pred, W = utils.linear(\n",
    "    x=X,\n",
    "    n_output=n_output,\n",
    "    activation=tf.nn.softmax,\n",
    "    name='layer1')"
   ]
  },
  {
   "cell_type": "markdown",
   "metadata": {},
   "source": [
    "And then we write our loss function as the cross entropy. And then we'll give our optimizer the `cross_entropy` measure just like we would with GradientDescent.  The formula for cross entropy is:\n",
    "\n",
    "\\begin{align}\n",
    "\\Large{H(x) = -\\sum{\\text{Y}_{\\text{true}} * log(\\text{Y}_{pred})}}\n",
    "\\end{align}"
   ]
  },
  {
   "cell_type": "code",
   "execution_count": 68,
   "metadata": {
    "collapsed": true
   },
   "outputs": [],
   "source": [
    "# We add 1e-12 because the log is undefined at 0.\n",
    "cross_entropy = -tf.reduce_sum(Y * tf.log(Y_pred + 1e-12))\n",
    "optimizer = tf.train.AdamOptimizer(0.001).minimize(cross_entropy)"
   ]
  },
  {
   "cell_type": "markdown",
   "metadata": {},
   "source": [
    "To determine the correct class from our regression output, we have to take the maximum index."
   ]
  },
  {
   "cell_type": "code",
   "execution_count": 69,
   "metadata": {
    "collapsed": true
   },
   "outputs": [],
   "source": [
    "predicted_y = tf.argmax(Y_pred, 1)\n",
    "actual_y = tf.argmax(Y, 1)"
   ]
  },
  {
   "cell_type": "markdown",
   "metadata": {},
   "source": [
    "We can then measure the accuracy by seeing whenever these are equal.  Note, this is just for us to see, and is not at all used to \"train\" the network!"
   ]
  },
  {
   "cell_type": "code",
   "execution_count": 70,
   "metadata": {
    "collapsed": true
   },
   "outputs": [],
   "source": [
    "correct_prediction = tf.equal(predicted_y, actual_y)\n",
    "accuracy = tf.reduce_mean(tf.cast(correct_prediction, \"float\"))"
   ]
  },
  {
   "cell_type": "markdown",
   "metadata": {},
   "source": [
    "### Training the Network\n",
    "\n",
    "The rest of the code will be exactly the same as before.  We chunk the training dataset into `batch_size` chunks, and let these images help train the network over a number of iterations."
   ]
  },
  {
   "cell_type": "code",
   "execution_count": 71,
   "metadata": {
    "collapsed": false
   },
   "outputs": [
    {
     "name": "stdout",
     "output_type": "stream",
     "text": [
      "0.893429\n",
      "0.907\n",
      "0.913286\n",
      "0.916286\n",
      "0.919143\n",
      "0.917143\n"
     ]
    }
   ],
   "source": [
    "sess = tf.Session()\n",
    "sess.run(tf.global_variables_initializer())\n",
    "\n",
    "# Now actually do some training:\n",
    "batch_size = 50\n",
    "n_epochs = 5\n",
    "for epoch_i in range(n_epochs):\n",
    "    for batch_xs, batch_ys in ds.train.next_batch():\n",
    "        sess.run(optimizer, feed_dict={\n",
    "            X: batch_xs,\n",
    "            Y: batch_ys\n",
    "        })\n",
    "    valid = ds.valid\n",
    "    print(sess.run(accuracy,\n",
    "                   feed_dict={\n",
    "                       X: valid.images,\n",
    "                       Y: valid.labels\n",
    "                   }))\n",
    "\n",
    "# Print final test accuracy:\n",
    "test = ds.test\n",
    "print(sess.run(accuracy,\n",
    "               feed_dict={\n",
    "                   X: test.images,\n",
    "                   Y: test.labels\n",
    "               }))"
   ]
  },
  {
   "cell_type": "markdown",
   "metadata": {},
   "source": [
    "What we should see is the accuracy being printed after each \"epoch\", or after every run over the entire dataset.  Since we're using batches, we use the notion of an \"epoch\" to denote whenever we've gone through the entire dataset.\n",
    "\n",
    "<a name=\"inspecting-the-network\"></a>\n",
    "### Inspecting the Trained Network\n",
    "\n",
    "Let's try and now inspect *how* the network is accomplishing this task.  We know that our network is a single matrix multiplication of our 784 pixel values.  The weight matrix, `W`, should therefore have 784 rows.  As outputs, it has 10 values.  So the matrix is composed in the `linear` function as `n_input` x `n_output` values.  So the matrix is 784 rows x 10 columns.\n",
    "\n",
    "<TODO: graphic w/ wacom showing network and matrix multiplication and pulling out single neuron/column>\n",
    "\n",
    "In order to get this matrix, we could have had our `linear` function return the `tf.Tensor`.  But since everything is part of the tensorflow graph, and we've started using nice names for all of our operations, we can actually find this tensor using tensorflow:"
   ]
  },
  {
   "cell_type": "code",
   "execution_count": 72,
   "metadata": {
    "collapsed": false
   },
   "outputs": [
    {
     "data": {
      "text/plain": [
       "['Placeholder',\n",
       " 'Reshape/shape',\n",
       " 'Reshape',\n",
       " 'encoder/layer/0/W',\n",
       " 'encoder/layer/0/W/Initializer/random_normal/shape',\n",
       " 'encoder/layer/0/W/Initializer/random_normal/mean',\n",
       " 'encoder/layer/0/W/Initializer/random_normal/stddev',\n",
       " 'encoder/layer/0/W/Initializer/random_normal/RandomStandardNormal',\n",
       " 'encoder/layer/0/W/Initializer/random_normal/mul',\n",
       " 'encoder/layer/0/W/Initializer/random_normal',\n",
       " 'encoder/layer/0/W/Assign',\n",
       " 'encoder/layer/0/W/read',\n",
       " 'encoder/layer/0/Conv2D',\n",
       " 'encoder/layer/0/Relu',\n",
       " 'encoder/layer/1/W',\n",
       " 'encoder/layer/1/W/Initializer/random_normal/shape',\n",
       " 'encoder/layer/1/W/Initializer/random_normal/mean',\n",
       " 'encoder/layer/1/W/Initializer/random_normal/stddev',\n",
       " 'encoder/layer/1/W/Initializer/random_normal/RandomStandardNormal',\n",
       " 'encoder/layer/1/W/Initializer/random_normal/mul',\n",
       " 'encoder/layer/1/W/Initializer/random_normal',\n",
       " 'encoder/layer/1/W/Assign',\n",
       " 'encoder/layer/1/W/read',\n",
       " 'encoder/layer/1/Conv2D',\n",
       " 'encoder/layer/1/Relu',\n",
       " 'encoder/layer/2/W',\n",
       " 'encoder/layer/2/W/Initializer/random_normal/shape',\n",
       " 'encoder/layer/2/W/Initializer/random_normal/mean',\n",
       " 'encoder/layer/2/W/Initializer/random_normal/stddev',\n",
       " 'encoder/layer/2/W/Initializer/random_normal/RandomStandardNormal',\n",
       " 'encoder/layer/2/W/Initializer/random_normal/mul',\n",
       " 'encoder/layer/2/W/Initializer/random_normal',\n",
       " 'encoder/layer/2/W/Assign',\n",
       " 'encoder/layer/2/W/read',\n",
       " 'encoder/layer/2/Conv2D',\n",
       " 'encoder/layer/2/Relu',\n",
       " 'decoder/layer/0/Shape',\n",
       " 'decoder/layer/0/strided_slice/stack',\n",
       " 'decoder/layer/0/strided_slice/stack_1',\n",
       " 'decoder/layer/0/strided_slice/stack_2',\n",
       " 'decoder/layer/0/strided_slice',\n",
       " 'decoder/layer/0/pack/1',\n",
       " 'decoder/layer/0/pack/2',\n",
       " 'decoder/layer/0/pack/3',\n",
       " 'decoder/layer/0/pack',\n",
       " 'decoder/layer/0/conv2d_transpose',\n",
       " 'decoder/layer/0/Relu',\n",
       " 'decoder/layer/1/Shape',\n",
       " 'decoder/layer/1/strided_slice/stack',\n",
       " 'decoder/layer/1/strided_slice/stack_1',\n",
       " 'decoder/layer/1/strided_slice/stack_2',\n",
       " 'decoder/layer/1/strided_slice',\n",
       " 'decoder/layer/1/pack/1',\n",
       " 'decoder/layer/1/pack/2',\n",
       " 'decoder/layer/1/pack/3',\n",
       " 'decoder/layer/1/pack',\n",
       " 'decoder/layer/1/conv2d_transpose',\n",
       " 'decoder/layer/1/Relu',\n",
       " 'decoder/layer/2/Shape',\n",
       " 'decoder/layer/2/strided_slice/stack',\n",
       " 'decoder/layer/2/strided_slice/stack_1',\n",
       " 'decoder/layer/2/strided_slice/stack_2',\n",
       " 'decoder/layer/2/strided_slice',\n",
       " 'decoder/layer/2/pack/1',\n",
       " 'decoder/layer/2/pack/2',\n",
       " 'decoder/layer/2/pack/3',\n",
       " 'decoder/layer/2/pack',\n",
       " 'decoder/layer/2/conv2d_transpose',\n",
       " 'decoder/layer/2/Relu',\n",
       " 'Reshape_1/shape',\n",
       " 'Reshape_1',\n",
       " 'SquaredDifference',\n",
       " 'Mean/reduction_indices',\n",
       " 'Mean',\n",
       " 'Const',\n",
       " 'Mean_1',\n",
       " 'gradients/Shape',\n",
       " 'gradients/Const',\n",
       " 'gradients/Fill',\n",
       " 'gradients/Mean_1_grad/Reshape/shape',\n",
       " 'gradients/Mean_1_grad/Reshape',\n",
       " 'gradients/Mean_1_grad/Shape',\n",
       " 'gradients/Mean_1_grad/Tile',\n",
       " 'gradients/Mean_1_grad/Shape_1',\n",
       " 'gradients/Mean_1_grad/Shape_2',\n",
       " 'gradients/Mean_1_grad/Const',\n",
       " 'gradients/Mean_1_grad/Prod',\n",
       " 'gradients/Mean_1_grad/Const_1',\n",
       " 'gradients/Mean_1_grad/Prod_1',\n",
       " 'gradients/Mean_1_grad/Maximum/y',\n",
       " 'gradients/Mean_1_grad/Maximum',\n",
       " 'gradients/Mean_1_grad/floordiv',\n",
       " 'gradients/Mean_1_grad/Cast',\n",
       " 'gradients/Mean_1_grad/truediv',\n",
       " 'gradients/Mean_grad/Shape',\n",
       " 'gradients/Mean_grad/Size',\n",
       " 'gradients/Mean_grad/add',\n",
       " 'gradients/Mean_grad/mod',\n",
       " 'gradients/Mean_grad/Shape_1',\n",
       " 'gradients/Mean_grad/range/start',\n",
       " 'gradients/Mean_grad/range/delta',\n",
       " 'gradients/Mean_grad/range',\n",
       " 'gradients/Mean_grad/Fill/value',\n",
       " 'gradients/Mean_grad/Fill',\n",
       " 'gradients/Mean_grad/DynamicStitch',\n",
       " 'gradients/Mean_grad/Maximum/y',\n",
       " 'gradients/Mean_grad/Maximum',\n",
       " 'gradients/Mean_grad/floordiv',\n",
       " 'gradients/Mean_grad/Reshape',\n",
       " 'gradients/Mean_grad/Tile',\n",
       " 'gradients/Mean_grad/Shape_2',\n",
       " 'gradients/Mean_grad/Shape_3',\n",
       " 'gradients/Mean_grad/Const',\n",
       " 'gradients/Mean_grad/Prod',\n",
       " 'gradients/Mean_grad/Const_1',\n",
       " 'gradients/Mean_grad/Prod_1',\n",
       " 'gradients/Mean_grad/Maximum_1/y',\n",
       " 'gradients/Mean_grad/Maximum_1',\n",
       " 'gradients/Mean_grad/floordiv_1',\n",
       " 'gradients/Mean_grad/Cast',\n",
       " 'gradients/Mean_grad/truediv',\n",
       " 'gradients/SquaredDifference_grad/Shape',\n",
       " 'gradients/SquaredDifference_grad/Shape_1',\n",
       " 'gradients/SquaredDifference_grad/BroadcastGradientArgs',\n",
       " 'gradients/SquaredDifference_grad/scalar',\n",
       " 'gradients/SquaredDifference_grad/mul',\n",
       " 'gradients/SquaredDifference_grad/sub',\n",
       " 'gradients/SquaredDifference_grad/mul_1',\n",
       " 'gradients/SquaredDifference_grad/Sum',\n",
       " 'gradients/SquaredDifference_grad/Reshape',\n",
       " 'gradients/SquaredDifference_grad/Sum_1',\n",
       " 'gradients/SquaredDifference_grad/Reshape_1',\n",
       " 'gradients/SquaredDifference_grad/Neg',\n",
       " 'gradients/SquaredDifference_grad/tuple/group_deps',\n",
       " 'gradients/SquaredDifference_grad/tuple/control_dependency',\n",
       " 'gradients/SquaredDifference_grad/tuple/control_dependency_1',\n",
       " 'gradients/Reshape_1_grad/Shape',\n",
       " 'gradients/Reshape_1_grad/Reshape',\n",
       " 'gradients/decoder/layer/2/Relu_grad/ReluGrad',\n",
       " 'gradients/decoder/layer/2/conv2d_transpose_grad/Shape',\n",
       " 'gradients/decoder/layer/2/conv2d_transpose_grad/Conv2DBackpropFilter',\n",
       " 'gradients/decoder/layer/2/conv2d_transpose_grad/Conv2D',\n",
       " 'gradients/decoder/layer/2/conv2d_transpose_grad/tuple/group_deps',\n",
       " 'gradients/decoder/layer/2/conv2d_transpose_grad/tuple/control_dependency',\n",
       " 'gradients/decoder/layer/2/conv2d_transpose_grad/tuple/control_dependency_1',\n",
       " 'gradients/decoder/layer/1/Relu_grad/ReluGrad',\n",
       " 'gradients/decoder/layer/1/conv2d_transpose_grad/Shape',\n",
       " 'gradients/decoder/layer/1/conv2d_transpose_grad/Conv2DBackpropFilter',\n",
       " 'gradients/decoder/layer/1/conv2d_transpose_grad/Conv2D',\n",
       " 'gradients/decoder/layer/1/conv2d_transpose_grad/tuple/group_deps',\n",
       " 'gradients/decoder/layer/1/conv2d_transpose_grad/tuple/control_dependency',\n",
       " 'gradients/decoder/layer/1/conv2d_transpose_grad/tuple/control_dependency_1',\n",
       " 'gradients/decoder/layer/0/Relu_grad/ReluGrad',\n",
       " 'gradients/decoder/layer/0/conv2d_transpose_grad/Shape',\n",
       " 'gradients/decoder/layer/0/conv2d_transpose_grad/Conv2DBackpropFilter',\n",
       " 'gradients/decoder/layer/0/conv2d_transpose_grad/Conv2D',\n",
       " 'gradients/decoder/layer/0/conv2d_transpose_grad/tuple/group_deps',\n",
       " 'gradients/decoder/layer/0/conv2d_transpose_grad/tuple/control_dependency',\n",
       " 'gradients/decoder/layer/0/conv2d_transpose_grad/tuple/control_dependency_1',\n",
       " 'gradients/encoder/layer/2/Relu_grad/ReluGrad',\n",
       " 'gradients/encoder/layer/2/Conv2D_grad/Shape',\n",
       " 'gradients/encoder/layer/2/Conv2D_grad/Conv2DBackpropInput',\n",
       " 'gradients/encoder/layer/2/Conv2D_grad/Shape_1',\n",
       " 'gradients/encoder/layer/2/Conv2D_grad/Conv2DBackpropFilter',\n",
       " 'gradients/encoder/layer/2/Conv2D_grad/tuple/group_deps',\n",
       " 'gradients/encoder/layer/2/Conv2D_grad/tuple/control_dependency',\n",
       " 'gradients/encoder/layer/2/Conv2D_grad/tuple/control_dependency_1',\n",
       " 'gradients/encoder/layer/1/Relu_grad/ReluGrad',\n",
       " 'gradients/AddN',\n",
       " 'gradients/encoder/layer/1/Conv2D_grad/Shape',\n",
       " 'gradients/encoder/layer/1/Conv2D_grad/Conv2DBackpropInput',\n",
       " 'gradients/encoder/layer/1/Conv2D_grad/Shape_1',\n",
       " 'gradients/encoder/layer/1/Conv2D_grad/Conv2DBackpropFilter',\n",
       " 'gradients/encoder/layer/1/Conv2D_grad/tuple/group_deps',\n",
       " 'gradients/encoder/layer/1/Conv2D_grad/tuple/control_dependency',\n",
       " 'gradients/encoder/layer/1/Conv2D_grad/tuple/control_dependency_1',\n",
       " 'gradients/encoder/layer/0/Relu_grad/ReluGrad',\n",
       " 'gradients/AddN_1',\n",
       " 'gradients/encoder/layer/0/Conv2D_grad/Shape',\n",
       " 'gradients/encoder/layer/0/Conv2D_grad/Conv2DBackpropInput',\n",
       " 'gradients/encoder/layer/0/Conv2D_grad/Shape_1',\n",
       " 'gradients/encoder/layer/0/Conv2D_grad/Conv2DBackpropFilter',\n",
       " 'gradients/encoder/layer/0/Conv2D_grad/tuple/group_deps',\n",
       " 'gradients/encoder/layer/0/Conv2D_grad/tuple/control_dependency',\n",
       " 'gradients/encoder/layer/0/Conv2D_grad/tuple/control_dependency_1',\n",
       " 'gradients/AddN_2',\n",
       " 'beta1_power/initial_value',\n",
       " 'beta1_power',\n",
       " 'beta1_power/Assign',\n",
       " 'beta1_power/read',\n",
       " 'beta2_power/initial_value',\n",
       " 'beta2_power',\n",
       " 'beta2_power/Assign',\n",
       " 'beta2_power/read',\n",
       " 'zeros',\n",
       " 'encoder/layer/0/W/Adam',\n",
       " 'encoder/layer/0/W/Adam/Assign',\n",
       " 'encoder/layer/0/W/Adam/read',\n",
       " 'zeros_1',\n",
       " 'encoder/layer/0/W/Adam_1',\n",
       " 'encoder/layer/0/W/Adam_1/Assign',\n",
       " 'encoder/layer/0/W/Adam_1/read',\n",
       " 'zeros_2',\n",
       " 'encoder/layer/1/W/Adam',\n",
       " 'encoder/layer/1/W/Adam/Assign',\n",
       " 'encoder/layer/1/W/Adam/read',\n",
       " 'zeros_3',\n",
       " 'encoder/layer/1/W/Adam_1',\n",
       " 'encoder/layer/1/W/Adam_1/Assign',\n",
       " 'encoder/layer/1/W/Adam_1/read',\n",
       " 'zeros_4',\n",
       " 'encoder/layer/2/W/Adam',\n",
       " 'encoder/layer/2/W/Adam/Assign',\n",
       " 'encoder/layer/2/W/Adam/read',\n",
       " 'zeros_5',\n",
       " 'encoder/layer/2/W/Adam_1',\n",
       " 'encoder/layer/2/W/Adam_1/Assign',\n",
       " 'encoder/layer/2/W/Adam_1/read',\n",
       " 'Adam/learning_rate',\n",
       " 'Adam/beta1',\n",
       " 'Adam/beta2',\n",
       " 'Adam/epsilon',\n",
       " 'Adam/update_encoder/layer/0/W/ApplyAdam',\n",
       " 'Adam/update_encoder/layer/1/W/ApplyAdam',\n",
       " 'Adam/update_encoder/layer/2/W/ApplyAdam',\n",
       " 'Adam/mul',\n",
       " 'Adam/Assign',\n",
       " 'Adam/mul_1',\n",
       " 'Adam/Assign_1',\n",
       " 'Adam',\n",
       " 'init',\n",
       " 'Placeholder_1',\n",
       " 'Placeholder_2',\n",
       " 'layer1/W',\n",
       " 'layer1/W/Initializer/random_uniform/shape',\n",
       " 'layer1/W/Initializer/random_uniform/min',\n",
       " 'layer1/W/Initializer/random_uniform/max',\n",
       " 'layer1/W/Initializer/random_uniform/RandomUniform',\n",
       " 'layer1/W/Initializer/random_uniform/sub',\n",
       " 'layer1/W/Initializer/random_uniform/mul',\n",
       " 'layer1/W/Initializer/random_uniform',\n",
       " 'layer1/W/Assign',\n",
       " 'layer1/W/read',\n",
       " 'layer1/b',\n",
       " 'layer1/b/Initializer/Const',\n",
       " 'layer1/b/Assign',\n",
       " 'layer1/b/read',\n",
       " 'layer1/MatMul',\n",
       " 'layer1/h',\n",
       " 'layer1/Softmax',\n",
       " 'add/y',\n",
       " 'add',\n",
       " 'Log',\n",
       " 'mul',\n",
       " 'Const_1',\n",
       " 'Sum',\n",
       " 'Neg',\n",
       " 'gradients_1/Shape',\n",
       " 'gradients_1/Const',\n",
       " 'gradients_1/Fill',\n",
       " 'gradients_1/Neg_grad/Neg',\n",
       " 'gradients_1/Sum_grad/Reshape/shape',\n",
       " 'gradients_1/Sum_grad/Reshape',\n",
       " 'gradients_1/Sum_grad/Shape',\n",
       " 'gradients_1/Sum_grad/Tile',\n",
       " 'gradients_1/mul_grad/Shape',\n",
       " 'gradients_1/mul_grad/Shape_1',\n",
       " 'gradients_1/mul_grad/BroadcastGradientArgs',\n",
       " 'gradients_1/mul_grad/mul',\n",
       " 'gradients_1/mul_grad/Sum',\n",
       " 'gradients_1/mul_grad/Reshape',\n",
       " 'gradients_1/mul_grad/mul_1',\n",
       " 'gradients_1/mul_grad/Sum_1',\n",
       " 'gradients_1/mul_grad/Reshape_1',\n",
       " 'gradients_1/mul_grad/tuple/group_deps',\n",
       " 'gradients_1/mul_grad/tuple/control_dependency',\n",
       " 'gradients_1/mul_grad/tuple/control_dependency_1',\n",
       " 'gradients_1/Log_grad/Reciprocal',\n",
       " 'gradients_1/Log_grad/mul',\n",
       " 'gradients_1/add_grad/Shape',\n",
       " 'gradients_1/add_grad/Shape_1',\n",
       " 'gradients_1/add_grad/BroadcastGradientArgs',\n",
       " 'gradients_1/add_grad/Sum',\n",
       " 'gradients_1/add_grad/Reshape',\n",
       " 'gradients_1/add_grad/Sum_1',\n",
       " 'gradients_1/add_grad/Reshape_1',\n",
       " 'gradients_1/add_grad/tuple/group_deps',\n",
       " 'gradients_1/add_grad/tuple/control_dependency',\n",
       " 'gradients_1/add_grad/tuple/control_dependency_1',\n",
       " 'gradients_1/layer1/Softmax_grad/mul',\n",
       " 'gradients_1/layer1/Softmax_grad/Sum/reduction_indices',\n",
       " 'gradients_1/layer1/Softmax_grad/Sum',\n",
       " 'gradients_1/layer1/Softmax_grad/Reshape/shape',\n",
       " 'gradients_1/layer1/Softmax_grad/Reshape',\n",
       " 'gradients_1/layer1/Softmax_grad/sub',\n",
       " 'gradients_1/layer1/Softmax_grad/mul_1',\n",
       " 'gradients_1/layer1/h_grad/BiasAddGrad',\n",
       " 'gradients_1/layer1/h_grad/tuple/group_deps',\n",
       " 'gradients_1/layer1/h_grad/tuple/control_dependency',\n",
       " 'gradients_1/layer1/h_grad/tuple/control_dependency_1',\n",
       " 'gradients_1/layer1/MatMul_grad/MatMul',\n",
       " 'gradients_1/layer1/MatMul_grad/MatMul_1',\n",
       " 'gradients_1/layer1/MatMul_grad/tuple/group_deps',\n",
       " 'gradients_1/layer1/MatMul_grad/tuple/control_dependency',\n",
       " 'gradients_1/layer1/MatMul_grad/tuple/control_dependency_1',\n",
       " 'beta1_power_1/initial_value',\n",
       " 'beta1_power_1',\n",
       " 'beta1_power_1/Assign',\n",
       " 'beta1_power_1/read',\n",
       " 'beta2_power_1/initial_value',\n",
       " 'beta2_power_1',\n",
       " 'beta2_power_1/Assign',\n",
       " 'beta2_power_1/read',\n",
       " 'zeros_6',\n",
       " 'layer1/W/Adam',\n",
       " 'layer1/W/Adam/Assign',\n",
       " 'layer1/W/Adam/read',\n",
       " 'zeros_7',\n",
       " 'layer1/W/Adam_1',\n",
       " 'layer1/W/Adam_1/Assign',\n",
       " 'layer1/W/Adam_1/read',\n",
       " 'zeros_8',\n",
       " 'layer1/b/Adam',\n",
       " 'layer1/b/Adam/Assign',\n",
       " 'layer1/b/Adam/read',\n",
       " 'zeros_9',\n",
       " 'layer1/b/Adam_1',\n",
       " 'layer1/b/Adam_1/Assign',\n",
       " 'layer1/b/Adam_1/read',\n",
       " 'Adam_1/learning_rate',\n",
       " 'Adam_1/beta1',\n",
       " 'Adam_1/beta2',\n",
       " 'Adam_1/epsilon',\n",
       " 'Adam_1/update_layer1/W/ApplyAdam',\n",
       " 'Adam_1/update_layer1/b/ApplyAdam',\n",
       " 'Adam_1/mul',\n",
       " 'Adam_1/Assign',\n",
       " 'Adam_1/mul_1',\n",
       " 'Adam_1/Assign_1',\n",
       " 'Adam_1',\n",
       " 'ArgMax/dimension',\n",
       " 'ArgMax',\n",
       " 'ArgMax_1/dimension',\n",
       " 'ArgMax_1',\n",
       " 'Equal',\n",
       " 'Cast',\n",
       " 'Const_2',\n",
       " 'Mean_2',\n",
       " 'init_1']"
      ]
     },
     "execution_count": 72,
     "metadata": {},
     "output_type": "execute_result"
    }
   ],
   "source": [
    "# We first get the graph that we used to compute the network\n",
    "g = tf.get_default_graph()\n",
    "\n",
    "# And can inspect everything inside of it\n",
    "[op.name for op in g.get_operations()]"
   ]
  },
  {
   "cell_type": "markdown",
   "metadata": {},
   "source": [
    "Looking at the names of the operations, we see there is one `linear/W`.  But this is the `tf.Operation`.  Not the `tf.Tensor`.  The tensor is the result of the operation.  To get the result of the operation, we simply add \":0\" to the name of the operation:"
   ]
  },
  {
   "cell_type": "code",
   "execution_count": 73,
   "metadata": {
    "collapsed": true
   },
   "outputs": [],
   "source": [
    "W = g.get_tensor_by_name('layer1/W:0')"
   ]
  },
  {
   "cell_type": "markdown",
   "metadata": {},
   "source": [
    "We can use the existing session to compute the current value of this tensor:"
   ]
  },
  {
   "cell_type": "code",
   "execution_count": 74,
   "metadata": {
    "collapsed": false
   },
   "outputs": [
    {
     "name": "stdout",
     "output_type": "stream",
     "text": [
      "(784, 10)\n"
     ]
    }
   ],
   "source": [
    "W_arr = np.array(W.eval(session=sess))\n",
    "print(W_arr.shape)"
   ]
  },
  {
   "cell_type": "markdown",
   "metadata": {},
   "source": [
    "And now we have our tensor!  Let's try visualizing every neuron, or every column of this matrix:"
   ]
  },
  {
   "cell_type": "code",
   "execution_count": 80,
   "metadata": {
    "collapsed": false
   },
   "outputs": [
    {
     "data": {
      "image/png": "[encoded data removed]",
      "text/plain": [
       "<matplotlib.figure.Figure at 0x11e49cba8>"
      ]
     },
     "metadata": {},
     "output_type": "display_data"
    }
   ],
   "source": [
    "fig, ax = plt.subplots(1, 10, figsize=(20, 3))\n",
    "for col_i in range(10):\n",
    "    ax[col_i].imshow(W_arr[:, col_i].reshape((28, 28)), cmap='coolwarm')"
   ]
  },
  {
   "cell_type": "markdown",
   "metadata": {},
   "source": [
    "We're going to use the `coolwarm` color map, which will use \"cool\" values, or blue-ish colors for low values.  And \"warm\" colors, red, basically, for high values.  So what we begin to see is that there is a weighting of all the input values, where pixels that are likely to describe that number are being weighted high, and pixels that are not likely to describe that number are being weighted low.  By summing all of these multiplications together, the network is able to begin to predict what number is in the image.  This is not a very good network though, and the representations it learns could still do a much better job.  We were only right about 93% of the time according to our accuracy.  State of the art models will get about 99.9% accuracy.\n",
    "\n",
    "<a name=\"convolutional-networks\"></a>\n",
    "## Convolutional Networks\n",
    "\n",
    "To get better performance, we can build a convolutional network.  We've already seen how to create a convolutional network with our unsupervised model.  We're going to make the same modifications here to help us predict the digit labels in MNIST.\n",
    "\n",
    "### Defining the Network\n",
    "\n",
    "I'll first reset the current graph, so we can build a new one.  We'll use tensorflow's nice helper function for doing this."
   ]
  },
  {
   "cell_type": "code",
   "execution_count": 81,
   "metadata": {
    "collapsed": true
   },
   "outputs": [],
   "source": [
    "from tensorflow.python.framework.ops import reset_default_graph\n",
    "reset_default_graph()"
   ]
  },
  {
   "cell_type": "markdown",
   "metadata": {},
   "source": [
    "And just to confirm, let's see what's in our graph:"
   ]
  },
  {
   "cell_type": "code",
   "execution_count": 82,
   "metadata": {
    "collapsed": false
   },
   "outputs": [
    {
     "data": {
      "text/plain": [
       "[]"
      ]
     },
     "execution_count": 82,
     "metadata": {},
     "output_type": "execute_result"
    }
   ],
   "source": [
    "# We first get the graph that we used to compute the network\n",
    "g = tf.get_default_graph()\n",
    "\n",
    "# And can inspect everything inside of it\n",
    "[op.name for op in g.get_operations()]"
   ]
  },
  {
   "cell_type": "markdown",
   "metadata": {},
   "source": [
    "Great.  Empty.\n",
    "\n",
    "Now let's get our dataset, and create some placeholders like before:"
   ]
  },
  {
   "cell_type": "code",
   "execution_count": 83,
   "metadata": {
    "collapsed": false
   },
   "outputs": [
    {
     "name": "stdout",
     "output_type": "stream",
     "text": [
      "Extracting MNIST_data/train-images-idx3-ubyte.gz\n",
      "Extracting MNIST_data/train-labels-idx1-ubyte.gz\n",
      "Extracting MNIST_data/t10k-images-idx3-ubyte.gz\n",
      "Extracting MNIST_data/t10k-labels-idx1-ubyte.gz\n"
     ]
    }
   ],
   "source": [
    "# We'll have placeholders just like before which we'll fill in later.\n",
    "ds = datasets.MNIST(one_hot=True, split=[0.8, 0.1, 0.1])\n",
    "X = tf.placeholder(tf.float32, [None, 784])\n",
    "Y = tf.placeholder(tf.float32, [None, 10])"
   ]
  },
  {
   "cell_type": "markdown",
   "metadata": {},
   "source": [
    "Since `X` is currently `[batch, height*width]`, we need to reshape to a\n",
    "4-D tensor to use it in a convolutional graph.  Remember, in order to perform convolution, we have to use 4-dimensional tensors describing the:\n",
    "\n",
    "`N x H x W x C`\n",
    "\n",
    "We'll reshape our input placeholder by telling the `shape` parameter to be these new dimensions and we'll use `-1` to denote this dimension should not change size."
   ]
  },
  {
   "cell_type": "code",
   "execution_count": 84,
   "metadata": {
    "collapsed": true
   },
   "outputs": [],
   "source": [
    "X_tensor = tf.reshape(X, [-1, 28, 28, 1])"
   ]
  },
  {
   "cell_type": "markdown",
   "metadata": {},
   "source": [
    "We'll now setup the first convolutional layer.  Remember that the weight matrix for convolution should be\n",
    "\n",
    "`[height x width x input_channels x output_channels]`\n",
    "\n",
    "Let's create 32 filters.  That means every location in the image, depending on the stride I set when we perform the convolution, will be filtered by this many different kernels.  In session 1, we convolved our image with just 2 different types of kernels.  Now, we're going to let the computer try to find out what 32 filters helps it map the input to our desired output via our training signal."
   ]
  },
  {
   "cell_type": "code",
   "execution_count": 85,
   "metadata": {
    "collapsed": false
   },
   "outputs": [],
   "source": [
    "filter_size = 5\n",
    "n_filters_in = 1\n",
    "n_filters_out = 32\n",
    "W_1 = tf.get_variable(\n",
    "    name='W',\n",
    "    shape=[filter_size, filter_size, n_filters_in, n_filters_out],\n",
    "    initializer=tf.random_normal_initializer())"
   ]
  },
  {
   "cell_type": "markdown",
   "metadata": {},
   "source": [
    "Bias is always `[output_channels]` in size."
   ]
  },
  {
   "cell_type": "code",
   "execution_count": 86,
   "metadata": {
    "collapsed": true
   },
   "outputs": [],
   "source": [
    "b_1 = tf.get_variable(\n",
    "    name='b',\n",
    "    shape=[n_filters_out],\n",
    "    initializer=tf.constant_initializer())"
   ]
  },
  {
   "cell_type": "markdown",
   "metadata": {},
   "source": [
    "Now we can build a graph which does the first layer of convolution:\n",
    "We define our stride as `batch` x `height` x `width` x `channels`.  This has the effect of resampling the image down to half of the size."
   ]
  },
  {
   "cell_type": "code",
   "execution_count": 87,
   "metadata": {
    "collapsed": true
   },
   "outputs": [],
   "source": [
    "h_1 = tf.nn.relu(\n",
    "    tf.nn.bias_add(\n",
    "        tf.nn.conv2d(input=X_tensor,\n",
    "                     filter=W_1,\n",
    "                     strides=[1, 2, 2, 1],\n",
    "                     padding='SAME'),\n",
    "        b_1))"
   ]
  },
  {
   "cell_type": "markdown",
   "metadata": {},
   "source": [
    "And just like the first layer, add additional layers to create a deep net."
   ]
  },
  {
   "cell_type": "code",
   "execution_count": 88,
   "metadata": {
    "collapsed": true
   },
   "outputs": [],
   "source": [
    "n_filters_in = 32\n",
    "n_filters_out = 64\n",
    "W_2 = tf.get_variable(\n",
    "    name='W2',\n",
    "    shape=[filter_size, filter_size, n_filters_in, n_filters_out],\n",
    "    initializer=tf.random_normal_initializer())\n",
    "b_2 = tf.get_variable(\n",
    "    name='b2',\n",
    "    shape=[n_filters_out],\n",
    "    initializer=tf.constant_initializer())\n",
    "h_2 = tf.nn.relu(\n",
    "    tf.nn.bias_add(\n",
    "        tf.nn.conv2d(input=h_1,\n",
    "                 filter=W_2,\n",
    "                 strides=[1, 2, 2, 1],\n",
    "                 padding='SAME'),\n",
    "        b_2))"
   ]
  },
  {
   "cell_type": "markdown",
   "metadata": {},
   "source": [
    "4d -> 2d"
   ]
  },
  {
   "cell_type": "code",
   "execution_count": 89,
   "metadata": {
    "collapsed": true
   },
   "outputs": [],
   "source": [
    "# We'll now reshape so we can connect to a fully-connected/linear layer:\n",
    "h_2_flat = tf.reshape(h_2, [-1, 7 * 7 * n_filters_out])"
   ]
  },
  {
   "cell_type": "markdown",
   "metadata": {},
   "source": [
    "Create a fully-connected layer:"
   ]
  },
  {
   "cell_type": "code",
   "execution_count": 90,
   "metadata": {
    "collapsed": false
   },
   "outputs": [],
   "source": [
    "# NOTE: This uses a slightly different version of the linear function than the lecture!\n",
    "h_3, W = utils.linear(h_2_flat, 128, activation=tf.nn.relu, name='fc_1')"
   ]
  },
  {
   "cell_type": "markdown",
   "metadata": {},
   "source": [
    "And one last fully-connected layer which will give us the correct number of outputs, and use a softmax to expoentially scale the outputs and convert them to a probability:"
   ]
  },
  {
   "cell_type": "code",
   "execution_count": 91,
   "metadata": {
    "collapsed": true
   },
   "outputs": [],
   "source": [
    "# NOTE: This uses a slightly different version of the linear function than the lecture!\n",
    "Y_pred, W = utils.linear(h_3, n_output, activation=tf.nn.softmax, name='fc_2')"
   ]
  },
  {
   "cell_type": "markdown",
   "metadata": {},
   "source": [
    "<TODO: Draw as graphical representation>\n",
    "\n",
    "### Training the Network\n",
    "\n",
    "The rest of the training process is the same as the previous network.  We'll define loss/eval/training functions:"
   ]
  },
  {
   "cell_type": "code",
   "execution_count": 92,
   "metadata": {
    "collapsed": true
   },
   "outputs": [],
   "source": [
    "cross_entropy = -tf.reduce_sum(Y * tf.log(Y_pred + 1e-12))\n",
    "optimizer = tf.train.AdamOptimizer().minimize(cross_entropy)"
   ]
  },
  {
   "cell_type": "markdown",
   "metadata": {},
   "source": [
    "Monitor accuracy:"
   ]
  },
  {
   "cell_type": "code",
   "execution_count": 93,
   "metadata": {
    "collapsed": true
   },
   "outputs": [],
   "source": [
    "correct_prediction = tf.equal(tf.argmax(Y_pred, 1), tf.argmax(Y, 1))\n",
    "accuracy = tf.reduce_mean(tf.cast(correct_prediction, 'float'))"
   ]
  },
  {
   "cell_type": "markdown",
   "metadata": {},
   "source": [
    "And create a new session to actually perform the initialization of all the variables:"
   ]
  },
  {
   "cell_type": "code",
   "execution_count": 94,
   "metadata": {
    "collapsed": true
   },
   "outputs": [],
   "source": [
    "sess = tf.Session()\n",
    "sess.run(tf.global_variables_initializer())"
   ]
  },
  {
   "cell_type": "markdown",
   "metadata": {},
   "source": [
    "Then we'll train in minibatches and report accuracy:"
   ]
  },
  {
   "cell_type": "code",
   "execution_count": 95,
   "metadata": {
    "collapsed": false
   },
   "outputs": [
    {
     "name": "stdout",
     "output_type": "stream",
     "text": [
      "0.352714\n",
      "0.466714\n",
      "0.662571\n",
      "0.812286\n",
      "0.964286\n",
      "0.968571\n",
      "0.972143\n",
      "0.971714\n",
      "0.974857\n",
      "0.974714\n",
      "0.974857\n"
     ]
    }
   ],
   "source": [
    "batch_size = 50\n",
    "n_epochs = 10\n",
    "for epoch_i in range(n_epochs):\n",
    "    for batch_xs, batch_ys in ds.train.next_batch():\n",
    "        sess.run(optimizer, feed_dict={\n",
    "            X: batch_xs,\n",
    "            Y: batch_ys\n",
    "        })\n",
    "    valid = ds.valid\n",
    "    print(sess.run(accuracy,\n",
    "                   feed_dict={\n",
    "                       X: valid.images,\n",
    "                       Y: valid.labels\n",
    "                   }))\n",
    "\n",
    "# Print final test accuracy:\n",
    "test = ds.test\n",
    "print(sess.run(accuracy,\n",
    "               feed_dict={\n",
    "                   X: test.images,\n",
    "                   Y: test.labels\n",
    "               }))"
   ]
  },
  {
   "cell_type": "markdown",
   "metadata": {},
   "source": [
    "<TODO: Fun timelapse of waiting>\n",
    "\n",
    "### Inspecting the Trained Network\n",
    "\n",
    "Let's take a look at the kernels we've learned using the following montage function, similar to the one we've been using for creating image montages, except this one is suited for the dimensions of convolution kernels instead of 4-d images.  So it has the height and width first, unlike images which have batch then height then width.  We'll use this function to visualize every convolution kernel in the first and second layers of our network."
   ]
  },
  {
   "cell_type": "code",
   "execution_count": 97,
   "metadata": {
    "collapsed": false
   },
   "outputs": [
    {
     "data": {
      "text/plain": [
       "<matplotlib.image.AxesImage at 0x11f1d4048>"
      ]
     },
     "execution_count": 97,
     "metadata": {},
     "output_type": "execute_result"
    },
    {
     "data": {
      "image/png": "[encoded data removed]",
      "text/plain": [
       "<matplotlib.figure.Figure at 0x11e6b2e80>"
      ]
     },
     "metadata": {},
     "output_type": "display_data"
    }
   ],
   "source": [
    "from libs.utils import montage_filters\n",
    "W1 = sess.run(W_1)\n",
    "plt.figure(figsize=(10, 10))\n",
    "plt.imshow(montage_filters(W1), cmap='coolwarm', interpolation='nearest')"
   ]
  },
  {
   "cell_type": "markdown",
   "metadata": {},
   "source": [
    "What we're looking at are all of the convolution kernels that have been learned.  Compared to the previous network we've learned, it is much harder to understand what's happening here.  But let's try and explain these a little more.  The kernels that have been automatically learned here are responding to edges of different scales, orientations, and rotations.  It's likely these are really describing parts of letters, or the strokes that make up letters.  Put another way, they are trying to get at the \"information\" in the image by seeing what changes.\n",
    "\n",
    "That's a pretty fundamental idea.  That information would be things that change.  Of course, there are filters for things that aren't changing as well. Some filters may even seem to respond to things that are mostly constant.  However, if our network has learned a lot of filters that look like that, it's likely that the network hasn't really learned anything at all.  The flip side of this is if the filters all look more or less random.  That's also a bad sign.\n",
    "\n",
    "Let's try looking at the second layer's kernels:"
   ]
  },
  {
   "cell_type": "code",
   "execution_count": 98,
   "metadata": {
    "collapsed": false
   },
   "outputs": [
    {
     "data": {
      "text/plain": [
       "<matplotlib.image.AxesImage at 0x11ee90e80>"
      ]
     },
     "execution_count": 98,
     "metadata": {},
     "output_type": "execute_result"
    },
    {
     "data": {
      "image/png": "[encoded data removed]",
      "text/plain": [
       "<matplotlib.figure.Figure at 0x11b5e5780>"
      ]
     },
     "metadata": {},
     "output_type": "display_data"
    }
   ],
   "source": [
    "W2 = sess.run(W_2)\n",
    "plt.imshow(montage_filters(W2 / np.max(W2)), cmap='coolwarm')"
   ]
  },
  {
   "cell_type": "markdown",
   "metadata": {},
   "source": [
    "It's really difficult to know what's happening here.  There are many more kernels in this layer.  They've already passed through a set of filters and an additional non-linearity.  How can we really know what the network is doing to learn its objective function?  The important thing for now is to see that most of these filters are different, and that they are not all constant or uniformly activated.  That means it's really doing something, but we aren't really sure yet how to see how that effects the way we think of and perceive the image.  In the next session, we'll learn more about how we can start to interrogate these deeper representations and try to understand what they are encoding.  Along the way, we'll learn some pretty amazing tricks for producing entirely new aesthetics that eventually led to the \"deep dream\" viral craze.\n",
    "\n",
    "<a name=\"savingloading-models\"></a>\n",
    "# Saving/Loading Models\n",
    "\n",
    "Tensorflow provides a few ways of saving/loading models.  The easiest way is to use a checkpoint.  Though, this really useful while you are training your network.  When you are ready to deploy or hand out your network to others, you don't want to pass checkpoints around as they contain a lot of unnecessary information, and it also requires you to still write code to create your network.  Instead, you can create a protobuf which contains the definition of your graph and the model's weights.  Let's see how to do both:\n",
    "\n",
    "<a name=\"checkpoint\"></a>\n",
    "## Checkpoint\n",
    "\n",
    "Creating a checkpoint requires you to have already created a set of operations in your tensorflow graph.  Once you've done this, you'll create a session like normal and initialize all of the variables.  After this, you create a `tf.train.Saver` which can restore a previously saved checkpoint, overwriting all of the variables with your saved parameters."
   ]
  },
  {
   "cell_type": "code",
   "execution_count": 99,
   "metadata": {
    "collapsed": false
   },
   "outputs": [],
   "source": [
    "import os\n",
    "\n",
    "sess = tf.Session()\n",
    "init_op = tf.global_variables_initializer()\n",
    "saver = tf.train.Saver()\n",
    "sess.run(init_op)\n",
    "if os.path.exists(\"model.ckpt\"):\n",
    "    saver.restore(sess, \"model.ckpt\")\n",
    "    print(\"Model restored.\")"
   ]
  },
  {
   "cell_type": "markdown",
   "metadata": {},
   "source": [
    "Creating the checkpoint is easy.  After a few iterations of training, depending on your application say between 1/10 of the time to train the full model, you'll want to write the saved model.  You can do this like so:"
   ]
  },
  {
   "cell_type": "code",
   "execution_count": 100,
   "metadata": {
    "collapsed": false
   },
   "outputs": [
    {
     "name": "stdout",
     "output_type": "stream",
     "text": [
      "Model saved in file: ./model.ckpt\n"
     ]
    }
   ],
   "source": [
    "save_path = saver.save(sess, \"./model.ckpt\")\n",
    "print(\"Model saved in file: %s\" % save_path)"
   ]
  },
  {
   "cell_type": "markdown",
   "metadata": {},
   "source": [
    "<a name=\"protobuf\"></a>\n",
    "## Protobuf\n",
    "\n",
    "The second way of saving a model is really useful for when you don't want to pass around the code for producing the tensors or computational graph itself.  It is also useful for moving the code to deployment or for use in the C++ version of Tensorflow.  To do this, you'll want to run an operation to convert all of your trained parameters into constants.  Then, you'll create a second graph which copies the necessary tensors, extracts the subgraph, and writes this to a model.  The summarized code below shows you how you could use a checkpoint to restore your models parameters, and then export the saved model as a protobuf."
   ]
  },
  {
   "cell_type": "code",
   "execution_count": null,
   "metadata": {
    "collapsed": true
   },
   "outputs": [],
   "source": [
    "path='./'\n",
    "ckpt_name = './model.ckpt'\n",
    "fname = 'model.tfmodel'\n",
    "dst_nodes = ['Y']\n",
    "g_1 = tf.Graph()\n",
    "with tf.Session(graph=g_1) as sess:\n",
    "    x = tf.placeholder(tf.float32, shape=(1, 224, 224, 3))\n",
    "    # Replace this with some code which will create your tensorflow graph:\n",
    "    net = create_network()\n",
    "    sess.run(tf.global_variables_initializer())\n",
    "    saver.restore(sess, ckpt_name)\n",
    "    graph_def = tf.python.graph_util.convert_variables_to_constants(\n",
    "        sess, sess.graph_def, dst_nodes)\n",
    "g_2 = tf.Graph()\n",
    "with tf.Session(graph=g_2) as sess:\n",
    "    tf.train.write_graph(\n",
    "        tf.python.graph_util.extract_sub_graph(\n",
    "            graph_def, dst_nodes), path, fname, as_text=False)"
   ]
  },
  {
   "cell_type": "markdown",
   "metadata": {},
   "source": [
    "When you wanted to import this model, now you wouldn't need to refer to the checkpoint or create the network by specifying its placeholders or operations.  Instead, you'd use the `import_graph_def` operation like so:"
   ]
  },
  {
   "cell_type": "code",
   "execution_count": 101,
   "metadata": {
    "collapsed": false
   },
   "outputs": [
    {
     "ename": "FileNotFoundError",
     "evalue": "[Errno 2] No such file or directory: 'model.tfmodel'",
     "output_type": "error",
     "traceback": [
      "\u001b[0;31m---------------------------------------------------------------------------\u001b[0m",
      "\u001b[0;31mFileNotFoundError\u001b[0m                         Traceback (most recent call last)",
      "\u001b[0;32m<ipython-input-101-75cf8a766cb7>\u001b[0m in \u001b[0;36m<module>\u001b[0;34m()\u001b[0m\n\u001b[0;32m----> 1\u001b[0;31m \u001b[0;32mwith\u001b[0m \u001b[0mopen\u001b[0m\u001b[0;34m(\u001b[0m\u001b[0;34m\"model.tfmodel\"\u001b[0m\u001b[0;34m,\u001b[0m \u001b[0mmode\u001b[0m\u001b[0;34m=\u001b[0m\u001b[0;34m'rb'\u001b[0m\u001b[0;34m)\u001b[0m \u001b[0;32mas\u001b[0m \u001b[0mf\u001b[0m\u001b[0;34m:\u001b[0m\u001b[0;34m\u001b[0m\u001b[0m\n\u001b[0m\u001b[1;32m      2\u001b[0m     \u001b[0mgraph_def\u001b[0m \u001b[0;34m=\u001b[0m \u001b[0mtf\u001b[0m\u001b[0;34m.\u001b[0m\u001b[0mGraphDef\u001b[0m\u001b[0;34m(\u001b[0m\u001b[0;34m)\u001b[0m\u001b[0;34m\u001b[0m\u001b[0m\n\u001b[1;32m      3\u001b[0m     \u001b[0mgraph_def\u001b[0m\u001b[0;34m.\u001b[0m\u001b[0mParseFromString\u001b[0m\u001b[0;34m(\u001b[0m\u001b[0mf\u001b[0m\u001b[0;34m.\u001b[0m\u001b[0mread\u001b[0m\u001b[0;34m(\u001b[0m\u001b[0;34m)\u001b[0m\u001b[0;34m)\u001b[0m\u001b[0;34m\u001b[0m\u001b[0m\n\u001b[1;32m      4\u001b[0m \u001b[0;34m\u001b[0m\u001b[0m\n\u001b[1;32m      5\u001b[0m \u001b[0mtf\u001b[0m\u001b[0;34m.\u001b[0m\u001b[0mimport_graph_def\u001b[0m\u001b[0;34m(\u001b[0m\u001b[0mnet\u001b[0m\u001b[0;34m[\u001b[0m\u001b[0;34m'graph_def'\u001b[0m\u001b[0;34m]\u001b[0m\u001b[0;34m,\u001b[0m \u001b[0mname\u001b[0m\u001b[0;34m=\u001b[0m\u001b[0;34m'model'\u001b[0m\u001b[0;34m)\u001b[0m\u001b[0;34m\u001b[0m\u001b[0m\n",
      "\u001b[0;31mFileNotFoundError\u001b[0m: [Errno 2] No such file or directory: 'model.tfmodel'"
     ]
    }
   ],
   "source": [
    "with open(\"model.tfmodel\", mode='rb') as f:\n",
    "    graph_def = tf.GraphDef()\n",
    "    graph_def.ParseFromString(f.read())\n",
    "\n",
    "tf.import_graph_def(net['graph_def'], name='model')"
   ]
  },
  {
   "cell_type": "markdown",
   "metadata": {},
   "source": [
    "<a name=\"wrap-up\"></a>\n",
    "# Wrap Up\n",
    "\n",
    "In the next session, we'll learn some very powerful techniques for exploring the representations learned by these kernels, and how we can better understand what they are learning.  We'll look at state of the art deep networks for image recognition and interrogate what they've learned using techniques that led the public to Deep Dream.\n",
    "\n",
    "<a name=\"reading\"></a>\n",
    "# Reading\n",
    "\n",
    "Bourlard, H.; Kamp, Y. (1988). \"Auto-association by multilayer perceptrons and singular value decomposition\". Biological Cybernetics 59 (4–5): 291–294.\n",
    "\n",
    "G. E. Hinton, R. R. Salakhutdinov. Reducing the Dimensionality of Data with Neural Networks.  Science, 28 Jul 2006. Vol. 313, Issue 5786, pp. 504-507. \n",
    "DOI: 10.1126/science.1127647. http://science.sciencemag.org/content/313/5786/504.abstract\n",
    "\n",
    "Bengio, Y. (2009). \"Learning Deep Architectures for AI\". Foundations and Trends in Machine Learning 2. doi:10.1561/2200000006\n",
    "\n",
    "Vincent, Pascal; Larochelle, Hugo; Lajoie, Isabelle; Bengio, Yoshua; Manzagol, Pierre-Antoine (2010). \"Stacked Denoising Autoencoders: Learning Useful Representations in a Deep Network with a Local Denoising Criterion\". The Journal of Machine Learning Research 11: 3371–3408.\n",
    "\n",
    "Auto-Encoding Variational Bayes, Kingma, D.P. and Welling, M., ArXiv e-prints, 2013 http://arxiv.org/abs/1312.6114"
   ]
  }
 ],
 "metadata": {
  "kernelspec": {
   "display_name": "Python 3",
   "language": "python",
   "name": "python3"
  },
  "language_info": {
   "codemirror_mode": {
    "name": "ipython",
    "version": 3
   },
   "file_extension": ".py",
   "mimetype": "text/x-python",
   "name": "python",
   "nbconvert_exporter": "python",
   "pygments_lexer": "ipython3",
   "version": "3.6.0"
  }
 },
 "nbformat": 4,
 "nbformat_minor": 0
}
